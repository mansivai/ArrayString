{
  "nbformat": 4,
  "nbformat_minor": 0,
  "metadata": {
    "colab": {
      "name": "TextClassifier_Mansi_try.ipynb",
      "provenance": [],
      "include_colab_link": true
    },
    "kernelspec": {
      "name": "python3",
      "display_name": "Python 3"
    },
    "language_info": {
      "name": "python"
    }
  },
  "cells": [
    {
      "cell_type": "markdown",
      "metadata": {
        "id": "view-in-github",
        "colab_type": "text"
      },
      "source": [
        "<a href=\"https://colab.research.google.com/github/mansivai/ArrayString/blob/master/TextClassifier_Mansi_try.ipynb\" target=\"_parent\"><img src=\"https://colab.research.google.com/assets/colab-badge.svg\" alt=\"Open In Colab\"/></a>"
      ]
    },
    {
      "cell_type": "code",
      "execution_count": 1,
      "metadata": {
        "colab": {
          "base_uri": "https://localhost:8080/"
        },
        "id": "bpJUcS29PMLi",
        "outputId": "ece3813b-0838-4300-8459-42e8853187d0"
      },
      "outputs": [
        {
          "output_type": "stream",
          "name": "stdout",
          "text": [
            "Mounted at /content/drive\n"
          ]
        }
      ],
      "source": [
        "from google.colab import drive\n",
        "drive.mount('/content/drive')"
      ]
    },
    {
      "cell_type": "code",
      "source": [
        "import numpy as np\n",
        "import pandas as pd\n",
        "import matplotlib.pyplot as plt\n",
        "from sklearn.linear_model import LogisticRegression\n",
        "from sklearn.metrics import f1_score"
      ],
      "metadata": {
        "id": "zFWRxE_4I4Et"
      },
      "execution_count": 2,
      "outputs": []
    },
    {
      "cell_type": "code",
      "source": [
        "df = pd.read_csv('/content/drive/MyDrive/ClauseClassification - ClauseClassification.csv' , names=[\"Traning set\",\"classes\"], na_values=\" NaN\")\n",
        "df.head()"
      ],
      "metadata": {
        "colab": {
          "base_uri": "https://localhost:8080/",
          "height": 206
        },
        "id": "MxqurnV_Pja8",
        "outputId": "5dd92bcc-31b0-453f-f067-222b1374d64f"
      },
      "execution_count": 3,
      "outputs": [
        {
          "output_type": "execute_result",
          "data": {
            "text/html": [
              "\n",
              "  <div id=\"df-dd795340-27ee-4533-86df-35c2221a1d04\">\n",
              "    <div class=\"colab-df-container\">\n",
              "      <div>\n",
              "<style scoped>\n",
              "    .dataframe tbody tr th:only-of-type {\n",
              "        vertical-align: middle;\n",
              "    }\n",
              "\n",
              "    .dataframe tbody tr th {\n",
              "        vertical-align: top;\n",
              "    }\n",
              "\n",
              "    .dataframe thead th {\n",
              "        text-align: right;\n",
              "    }\n",
              "</style>\n",
              "<table border=\"1\" class=\"dataframe\">\n",
              "  <thead>\n",
              "    <tr style=\"text-align: right;\">\n",
              "      <th></th>\n",
              "      <th>Traning set</th>\n",
              "      <th>classes</th>\n",
              "    </tr>\n",
              "  </thead>\n",
              "  <tbody>\n",
              "    <tr>\n",
              "      <th>0</th>\n",
              "      <td>The Borrower and certain lenders and agents ar...</td>\n",
              "      <td>Other</td>\n",
              "    </tr>\n",
              "    <tr>\n",
              "      <th>1</th>\n",
              "      <td>This CREDIT AGREEMENT is entered into as of No...</td>\n",
              "      <td>Preamble</td>\n",
              "    </tr>\n",
              "    <tr>\n",
              "      <th>2</th>\n",
              "      <td>This agreement is dated 22 December 2014 and m...</td>\n",
              "      <td>Preamble</td>\n",
              "    </tr>\n",
              "    <tr>\n",
              "      <th>3</th>\n",
              "      <td>This Agreement and shall be governed by and in...</td>\n",
              "      <td>Governing Law</td>\n",
              "    </tr>\n",
              "    <tr>\n",
              "      <th>4</th>\n",
              "      <td>The choice of South African law as the governi...</td>\n",
              "      <td>Governing Law</td>\n",
              "    </tr>\n",
              "  </tbody>\n",
              "</table>\n",
              "</div>\n",
              "      <button class=\"colab-df-convert\" onclick=\"convertToInteractive('df-dd795340-27ee-4533-86df-35c2221a1d04')\"\n",
              "              title=\"Convert this dataframe to an interactive table.\"\n",
              "              style=\"display:none;\">\n",
              "        \n",
              "  <svg xmlns=\"http://www.w3.org/2000/svg\" height=\"24px\"viewBox=\"0 0 24 24\"\n",
              "       width=\"24px\">\n",
              "    <path d=\"M0 0h24v24H0V0z\" fill=\"none\"/>\n",
              "    <path d=\"M18.56 5.44l.94 2.06.94-2.06 2.06-.94-2.06-.94-.94-2.06-.94 2.06-2.06.94zm-11 1L8.5 8.5l.94-2.06 2.06-.94-2.06-.94L8.5 2.5l-.94 2.06-2.06.94zm10 10l.94 2.06.94-2.06 2.06-.94-2.06-.94-.94-2.06-.94 2.06-2.06.94z\"/><path d=\"M17.41 7.96l-1.37-1.37c-.4-.4-.92-.59-1.43-.59-.52 0-1.04.2-1.43.59L10.3 9.45l-7.72 7.72c-.78.78-.78 2.05 0 2.83L4 21.41c.39.39.9.59 1.41.59.51 0 1.02-.2 1.41-.59l7.78-7.78 2.81-2.81c.8-.78.8-2.07 0-2.86zM5.41 20L4 18.59l7.72-7.72 1.47 1.35L5.41 20z\"/>\n",
              "  </svg>\n",
              "      </button>\n",
              "      \n",
              "  <style>\n",
              "    .colab-df-container {\n",
              "      display:flex;\n",
              "      flex-wrap:wrap;\n",
              "      gap: 12px;\n",
              "    }\n",
              "\n",
              "    .colab-df-convert {\n",
              "      background-color: #E8F0FE;\n",
              "      border: none;\n",
              "      border-radius: 50%;\n",
              "      cursor: pointer;\n",
              "      display: none;\n",
              "      fill: #1967D2;\n",
              "      height: 32px;\n",
              "      padding: 0 0 0 0;\n",
              "      width: 32px;\n",
              "    }\n",
              "\n",
              "    .colab-df-convert:hover {\n",
              "      background-color: #E2EBFA;\n",
              "      box-shadow: 0px 1px 2px rgba(60, 64, 67, 0.3), 0px 1px 3px 1px rgba(60, 64, 67, 0.15);\n",
              "      fill: #174EA6;\n",
              "    }\n",
              "\n",
              "    [theme=dark] .colab-df-convert {\n",
              "      background-color: #3B4455;\n",
              "      fill: #D2E3FC;\n",
              "    }\n",
              "\n",
              "    [theme=dark] .colab-df-convert:hover {\n",
              "      background-color: #434B5C;\n",
              "      box-shadow: 0px 1px 3px 1px rgba(0, 0, 0, 0.15);\n",
              "      filter: drop-shadow(0px 1px 2px rgba(0, 0, 0, 0.3));\n",
              "      fill: #FFFFFF;\n",
              "    }\n",
              "  </style>\n",
              "\n",
              "      <script>\n",
              "        const buttonEl =\n",
              "          document.querySelector('#df-dd795340-27ee-4533-86df-35c2221a1d04 button.colab-df-convert');\n",
              "        buttonEl.style.display =\n",
              "          google.colab.kernel.accessAllowed ? 'block' : 'none';\n",
              "\n",
              "        async function convertToInteractive(key) {\n",
              "          const element = document.querySelector('#df-dd795340-27ee-4533-86df-35c2221a1d04');\n",
              "          const dataTable =\n",
              "            await google.colab.kernel.invokeFunction('convertToInteractive',\n",
              "                                                     [key], {});\n",
              "          if (!dataTable) return;\n",
              "\n",
              "          const docLinkHtml = 'Like what you see? Visit the ' +\n",
              "            '<a target=\"_blank\" href=https://colab.research.google.com/notebooks/data_table.ipynb>data table notebook</a>'\n",
              "            + ' to learn more about interactive tables.';\n",
              "          element.innerHTML = '';\n",
              "          dataTable['output_type'] = 'display_data';\n",
              "          await google.colab.output.renderOutput(dataTable, element);\n",
              "          const docLink = document.createElement('div');\n",
              "          docLink.innerHTML = docLinkHtml;\n",
              "          element.appendChild(docLink);\n",
              "        }\n",
              "      </script>\n",
              "    </div>\n",
              "  </div>\n",
              "  "
            ],
            "text/plain": [
              "                                         Traning set        classes\n",
              "0  The Borrower and certain lenders and agents ar...          Other\n",
              "1  This CREDIT AGREEMENT is entered into as of No...       Preamble\n",
              "2  This agreement is dated 22 December 2014 and m...       Preamble\n",
              "3  This Agreement and shall be governed by and in...  Governing Law\n",
              "4  The choice of South African law as the governi...  Governing Law"
            ]
          },
          "metadata": {},
          "execution_count": 3
        }
      ]
    },
    {
      "cell_type": "code",
      "source": [
        "train = df.iloc[:11]\n",
        "test = df.iloc[11:]"
      ],
      "metadata": {
        "id": "wpkzlnD9LYGk"
      },
      "execution_count": 4,
      "outputs": []
    },
    {
      "cell_type": "code",
      "source": [
        "df_new = pd.read_csv('/content/drive/MyDrive/TextClassification_test - Sheet1.csv' , names=[\"Traning set\",\"classes\"], na_values=\" NaN\")"
      ],
      "metadata": {
        "id": "alQMYib0M92w"
      },
      "execution_count": 5,
      "outputs": []
    },
    {
      "cell_type": "code",
      "source": [
        "unlabeled=df_new"
      ],
      "metadata": {
        "id": "8IL9TqcUNFwX"
      },
      "execution_count": 6,
      "outputs": []
    },
    {
      "cell_type": "code",
      "source": [
        "X_train = train.drop('classes', axis=1)\n",
        "y_train = train.classes\n",
        "\n",
        "X_unlabeled = unlabeled.drop('classes', axis=1)\n",
        "\n",
        "X_test = test.drop('classes', axis=1)\n",
        "y_test = test.classes\n",
        "\n",
        "\n",
        "# Check dimensions of data after splitting\n",
        "\n",
        "print(f\"X_train dimensions: {X_train.shape}\")\n",
        "print(f\"y_train dimensions: {y_train.shape}\\n\")\n",
        "\n",
        "print(f\"X_test dimensions: {X_test.shape}\")\n",
        "print(f\"y_test dimensions: {y_test.shape}\\n\")\n",
        "\n",
        "print(f\"X_unlabeled dimensions: {X_unlabeled.shape}\")"
      ],
      "metadata": {
        "colab": {
          "base_uri": "https://localhost:8080/"
        },
        "id": "bIUt0SrMNJXl",
        "outputId": "a714db24-32bd-423b-df9f-1688703c7300"
      },
      "execution_count": 7,
      "outputs": [
        {
          "output_type": "stream",
          "name": "stdout",
          "text": [
            "X_train dimensions: (11, 1)\n",
            "y_train dimensions: (11,)\n",
            "\n",
            "X_test dimensions: (16, 1)\n",
            "y_test dimensions: (16,)\n",
            "\n",
            "X_unlabeled dimensions: (10, 1)\n"
          ]
        }
      ]
    },
    {
      "cell_type": "code",
      "source": [
        "y_train.value_counts().plot(kind='bar')\n",
        "plt.xticks([0,1,2,3,4], ['Other', 'Preamble','Governing Law','Indemnification','Lender Defaulting'])\n",
        "plt.ylabel('Count');"
      ],
      "metadata": {
        "colab": {
          "base_uri": "https://localhost:8080/",
          "height": 345
        },
        "id": "jl4gbi4_NYyR",
        "outputId": "e436c0c0-bce6-480a-e297-9c88a712fdae"
      },
      "execution_count": 8,
      "outputs": [
        {
          "output_type": "display_data",
          "data": {
            "image/png": "[encoded data removed]",
            "text/plain": [
              "<Figure size 432x288 with 1 Axes>"
            ]
          },
          "metadata": {
            "needs_background": "light"
          }
        }
      ]
    },
    {
      "cell_type": "code",
      "source": [
        "y_train"
      ],
      "metadata": {
        "colab": {
          "base_uri": "https://localhost:8080/"
        },
        "id": "r5EY4urwOJEh",
        "outputId": "0eb53c2e-8765-4773-9d81-4ec27f7201dd"
      },
      "execution_count": 9,
      "outputs": [
        {
          "output_type": "execute_result",
          "data": {
            "text/plain": [
              "0               Other\n",
              "1            Preamble\n",
              "2            Preamble\n",
              "3       Governing Law\n",
              "4       Governing Law\n",
              "5       Governing Law\n",
              "6               Other\n",
              "7               Other\n",
              "8     Indemnification\n",
              "9     Indemnification\n",
              "10    Indemnification\n",
              "Name: classes, dtype: object"
            ]
          },
          "metadata": {},
          "execution_count": 9
        }
      ]
    },
    {
      "cell_type": "code",
      "source": [
        "import nltk                               \n",
        "nltk.download('stopwords')\n",
        "import re                                  # library for regular expression operations\n",
        "import string                              # for string operations\n",
        "from nltk.corpus import stopwords \n",
        "import nltk.tokenize\n",
        "nltk.download('punkt')\n",
        "from nltk.tokenize import sent_tokenize,word_tokenize"
      ],
      "metadata": {
        "colab": {
          "base_uri": "https://localhost:8080/"
        },
        "id": "ZmtY2PLPoNOF",
        "outputId": "0c5d9504-b1be-4f9b-eb17-a493201cb7ec"
      },
      "execution_count": 10,
      "outputs": [
        {
          "output_type": "stream",
          "name": "stdout",
          "text": [
            "[nltk_data] Downloading package stopwords to /root/nltk_data...\n",
            "[nltk_data]   Unzipping corpora/stopwords.zip.\n",
            "[nltk_data] Downloading package punkt to /root/nltk_data...\n",
            "[nltk_data]   Unzipping tokenizers/punkt.zip.\n"
          ]
        }
      ]
    },
    {
      "cell_type": "code",
      "source": [
        "def remove_stopwords(x):\n",
        "  x=word_tokenize(x)\n",
        "  stopwords_all = stopwords.words('english')\n",
        "  x = \" \".join(i for i in x if not(i in stopwords_all))\n",
        "  return x\n"
      ],
      "metadata": {
        "id": "bL7sQggporBC"
      },
      "execution_count": 11,
      "outputs": []
    },
    {
      "cell_type": "code",
      "source": [
        "X_train['Traning set']=X_train['Traning set'].apply(remove_stopwords)\n",
        "X_test['Traning set']=X_test['Traning set'].apply(remove_stopwords)\n",
        "X_unlabeled['Traning set']=X_unlabeled['Traning set'].apply(remove_stopwords)"
      ],
      "metadata": {
        "id": "Da4Nezc8o00X"
      },
      "execution_count": 12,
      "outputs": []
    },
    {
      "cell_type": "code",
      "source": [
        "nltk.download('wordnet')\n",
        "from nltk.stem import WordNetLemmatizer"
      ],
      "metadata": {
        "colab": {
          "base_uri": "https://localhost:8080/"
        },
        "id": "bI7zLSumpsVU",
        "outputId": "5aa38478-1a40-42d1-b909-33ff78552fbb"
      },
      "execution_count": 13,
      "outputs": [
        {
          "output_type": "stream",
          "name": "stdout",
          "text": [
            "[nltk_data] Downloading package wordnet to /root/nltk_data...\n",
            "[nltk_data]   Unzipping corpora/wordnet.zip.\n"
          ]
        }
      ]
    },
    {
      "cell_type": "code",
      "source": [
        "def number_removal(row):\n",
        "    data1 = row['Traning set']\n",
        "    if type(data1) not in [int,float]:\n",
        "        line = re.sub(r\"[^A-Za-z\\s]\", \" \", data1.strip())\n",
        "        tokens = line.split()\n",
        "    else:\n",
        "        tokens=[]\n",
        "    return ' '.join(tokens)\n",
        "frequency_words_wo_stop = {}\n",
        "def generate_word_frequency(row):\n",
        "    data1 = row['Traning set']\n",
        "    tokens = nltk.wordpunct_tokenize(data1)\n",
        "    token_list = []\n",
        "    for token in tokens:\n",
        "        token_list.append(token.lower())\n",
        "        if token.lower() in frequency_words_wo_stop:\n",
        "            count = frequency_words_wo_stop[token.lower()]\n",
        "            count = count + 1\n",
        "            frequency_words_wo_stop[token.lower()] = count\n",
        "        else:\n",
        "            frequency_words_wo_stop[token.lower()] = 1\n",
        "    return ','.join(token_list)"
      ],
      "metadata": {
        "id": "-FJHYVuvpiPF"
      },
      "execution_count": 14,
      "outputs": []
    },
    {
      "cell_type": "code",
      "source": [
        "wordnet_lemmatizer = WordNetLemmatizer()\n",
        "\n",
        "def receieve(query):\n",
        "    data1=query\n",
        "    data1['Traning set'] = data1.apply(number_removal,axis=1)\n",
        "    data1['tokens'] = data1.apply(generate_word_frequency,axis=1)\n",
        "    # print (data1.head())\n",
        "    big=[]\n",
        "    for i in data1['tokens']:\n",
        "        st=''\n",
        "        ls=[]\n",
        "        for j in i.split(','):\n",
        "            # print (wordnet_lemmatizer.lemmatize(j))\n",
        "            ls.append(wordnet_lemmatizer.lemmatize(j))\n",
        "        big.append(' '.join(ls))\n",
        "    data1['Traning set_lem']=big\n",
        "    return data1['Traning set_lem']\n",
        "X_test['Traning set']=receieve(X_test[['Traning set']])\n",
        "X_train['Traning set']=receieve(X_train[['Traning set']])\n",
        "X_unlabeled['Traning set']=receieve(X_unlabeled[['Traning set']])\n"
      ],
      "metadata": {
        "id": "bUwmaJ5mpzwU"
      },
      "execution_count": 15,
      "outputs": []
    },
    {
      "cell_type": "code",
      "source": [
        "X_test=X_test['Traning set'].tolist()\n",
        "X_train=X_train['Traning set'].tolist()\n",
        "X_unlabeled =X_unlabeled['Traning set'].tolist()\n",
        "y_train =y_train.tolist()\n",
        "y_test = y_test.tolist()"
      ],
      "metadata": {
        "id": "LnRauDTnqJHJ"
      },
      "execution_count": 16,
      "outputs": []
    },
    {
      "cell_type": "code",
      "source": [
        "from sklearn.feature_extraction.text import CountVectorizer, TfidfTransformer"
      ],
      "metadata": {
        "id": "QY0y9Sqjxqjf"
      },
      "execution_count": 17,
      "outputs": []
    },
    {
      "cell_type": "code",
      "source": [
        "vectorizer = CountVectorizer()\n",
        "vectorizer.fit(X_unlabeled)\n",
        "\n",
        "train_mat_ul = vectorizer.transform(X_unlabeled)\n",
        "print (train_mat_ul.shape)\n",
        "\n",
        "train_mat = vectorizer.transform(X_train)\n",
        "print (train_mat.shape)\n",
        "test_mat = vectorizer.transform(X_test)\n",
        "print (test_mat.shape)"
      ],
      "metadata": {
        "colab": {
          "base_uri": "https://localhost:8080/"
        },
        "id": "j1vco_5bxsHB",
        "outputId": "ee4c013c-15fe-4cdb-f4a8-4b3361c53fbd"
      },
      "execution_count": 18,
      "outputs": [
        {
          "output_type": "stream",
          "name": "stdout",
          "text": [
            "(10, 151)\n",
            "(11, 151)\n",
            "(16, 151)\n"
          ]
        }
      ]
    },
    {
      "cell_type": "code",
      "source": [
        "tfidf = TfidfTransformer()\n",
        "tfidf.fit(train_mat_ul)\n",
        "\n",
        "train_tfmat = tfidf.transform(train_mat)\n",
        "print (train_tfmat.shape)\n",
        "\n",
        "# train_tfmat_ul = tfidf.transform(train_mat_ul)\n",
        "# print (train_tfmat_ul.shape)\n",
        "\n",
        "test_tfmat = tfidf.transform(test_mat)\n",
        "print (test_tfmat.shape)"
      ],
      "metadata": {
        "colab": {
          "base_uri": "https://localhost:8080/"
        },
        "id": "2O6DiYExyIZH",
        "outputId": "915e4953-bd18-4937-e106-e73880df791a"
      },
      "execution_count": 19,
      "outputs": [
        {
          "output_type": "stream",
          "name": "stdout",
          "text": [
            "(11, 151)\n",
            "(16, 151)\n"
          ]
        }
      ]
    },
    {
      "cell_type": "code",
      "source": [
        "unlabel_tfmat = tfidf.transform(train_mat_ul)\n",
        "print (train_mat_ul.shape)"
      ],
      "metadata": {
        "colab": {
          "base_uri": "https://localhost:8080/"
        },
        "id": "q-k_26FOlPHW",
        "outputId": "cb3c6e6d-d2f3-45c5-cf9a-3790788d943d"
      },
      "execution_count": 20,
      "outputs": [
        {
          "output_type": "stream",
          "name": "stdout",
          "text": [
            "(10, 151)\n"
          ]
        }
      ]
    },
    {
      "cell_type": "code",
      "source": [
        "from sklearn.naive_bayes import BernoulliNB, GaussianNB, MultinomialNB\n",
        "from sklearn.svm import LinearSVC, NuSVC, SVC\n",
        "from sklearn.neighbors import KNeighborsClassifier\n",
        "from sklearn.metrics import confusion_matrix,accuracy_score"
      ],
      "metadata": {
        "id": "wMl3tJ5JfANj"
      },
      "execution_count": 86,
      "outputs": []
    },
    {
      "cell_type": "code",
      "source": [
        "def plot_confusion_matrix(cm, classes, normalize=False, title='Confusion matrix',cmap=plt.cm.Reds):\n",
        "    plt.imshow(cm, interpolation='nearest', cmap=cmap)\n",
        "    plt.title(title)\n",
        "    plt.colorbar()\n",
        "    tick_marks = np.arange(len(classes))\n",
        "    plt.xticks(tick_marks, classes, rotation=90)\n",
        "    plt.yticks(tick_marks, classes)\n",
        "\n",
        "    print(cm)\n",
        "    thresh = cm.max() / 2.\n",
        "    for i, j in itertools.product(range(cm.shape[0]), range(cm.shape[1])):\n",
        "        plt.text(j, i, cm[i, j], horizontalalignment=\"center\", color=\"white\" if cm[i, j] > thresh else \"black\")\n",
        "\n",
        "    plt.tight_layout()\n",
        "    plt.ylabel('True label')\n",
        "    plt.xlabel('Predicted label')"
      ],
      "metadata": {
        "id": "P-haKuAijbRS"
      },
      "execution_count": 22,
      "outputs": []
    },
    {
      "cell_type": "code",
      "source": [
        "import itertools"
      ],
      "metadata": {
        "id": "9Nt7-6PcjpLU"
      },
      "execution_count": 23,
      "outputs": []
    },
    {
      "cell_type": "code",
      "source": [
        "clf = KNeighborsClassifier(n_neighbors=5, weights = 'distance')\n",
        "clf.fit(train_tfmat, y_train)\n",
        "y_hat_test = clf.predict(test_tfmat)\n",
        "y_hat_train = clf.predict(train_tfmat)\n",
        "\n",
        "train_f1 = f1_score(y_train, y_hat_train,average=None)\n",
        "test_f1 = f1_score(y_test, y_hat_test,average=None)\n",
        "\n",
        "print(f\"Train f1 Score: {train_f1}\")\n",
        "print(f\"Test f1 Score: {test_f1}\")\n",
        "\n",
        "plot_confusion_matrix(confusion_matrix(y_test, y_hat_test), classes=['Other', 'Preamble','Governing Law','Indemnification','Lender Defaulting'],  title='Bernoulli Confusion matrix')\n",
        "plt.show()"
      ],
      "metadata": {
        "colab": {
          "base_uri": "https://localhost:8080/",
          "height": 433
        },
        "id": "RQN4kgGfMM0A",
        "outputId": "7d21290e-0dd3-47f2-8e32-447ec32f5d64"
      },
      "execution_count": 92,
      "outputs": [
        {
          "output_type": "stream",
          "name": "stdout",
          "text": [
            "Train f1 Score: [1. 1. 1. 1.]\n",
            "Test f1 Score: [0.8  1.   0.   0.5  0.75]\n",
            "[[2 0 0 0 0]\n",
            " [0 3 0 0 0]\n",
            " [0 0 0 3 2]\n",
            " [1 0 0 2 0]\n",
            " [0 0 0 0 3]]\n"
          ]
        },
        {
          "output_type": "display_data",
          "data": {
            "image/png": "[encoded data removed]",
            "text/plain": [
              "<Figure size 432x288 with 2 Axes>"
            ]
          },
          "metadata": {
            "needs_background": "light"
          }
        }
      ]
    },
    {
      "cell_type": "code",
      "source": [
        "clf.predict_proba(test_tfmat)"
      ],
      "metadata": {
        "colab": {
          "base_uri": "https://localhost:8080/"
        },
        "id": "VnY5QUrqjx8v",
        "outputId": "e2fd2062-2611-463f-add9-58a976540162"
      },
      "execution_count": 93,
      "outputs": [
        {
          "output_type": "execute_result",
          "data": {
            "text/plain": [
              "array([[0.17526971, 0.64053174, 0.18419854, 0.        ],\n",
              "       [0.39709372, 0.        , 0.40009591, 0.20281037],\n",
              "       [0.        , 0.20302908, 0.39599615, 0.40097477],\n",
              "       [0.18731148, 0.17698485, 0.18934305, 0.44636062],\n",
              "       [0.        , 0.20526856, 0.41211001, 0.38262142],\n",
              "       [0.64869648, 0.        , 0.35130352, 0.        ],\n",
              "       [0.        , 0.40772624, 0.19702565, 0.39524811],\n",
              "       [0.37011308, 0.        , 0.21564165, 0.41424527],\n",
              "       [0.65441137, 0.        , 0.        , 0.34558863],\n",
              "       [0.14624931, 0.70342327, 0.        , 0.15032742],\n",
              "       [0.18191993, 0.18496953, 0.21266172, 0.42044882],\n",
              "       [0.20035987, 0.19238703, 0.21553423, 0.39171887],\n",
              "       [0.        , 0.20706408, 0.59454568, 0.19839025],\n",
              "       [0.39709372, 0.        , 0.40009591, 0.20281037],\n",
              "       [0.37775199, 0.37375103, 0.24849699, 0.        ],\n",
              "       [0.        , 0.        , 1.        , 0.        ]])"
            ]
          },
          "metadata": {},
          "execution_count": 93
        }
      ]
    },
    {
      "cell_type": "code",
      "source": [
        "y_hat_test = clf.predict(test_tfmat)\n",
        "y_hat_train = clf.predict(train_tfmat)\n",
        "print(f\"Test Score: {accuracy_score(y_test, y_hat_test)}\")\n",
        "print(f\"Train Score: {accuracy_score(y_train, y_hat_train)}\")"
      ],
      "metadata": {
        "colab": {
          "base_uri": "https://localhost:8080/"
        },
        "id": "-qkr9YyqkDRS",
        "outputId": "0ff2a593-471a-47e5-e03f-93e63dcbbaed"
      },
      "execution_count": 94,
      "outputs": [
        {
          "output_type": "stream",
          "name": "stdout",
          "text": [
            "Test Score: 0.625\n",
            "Train Score: 1.0\n"
          ]
        }
      ]
    },
    {
      "cell_type": "code",
      "source": [
        "X_train=train_tfmat\n",
        "X_test=test_tfmat\n",
        "# X_train = pd.DataFrame.sparse.from_spmatrix(X_train)\n",
        "X_train = pd.DataFrame(X_train.todense())\n",
        "print(X_train)\n"
      ],
      "metadata": {
        "id": "8h42CpOEkTFo",
        "colab": {
          "base_uri": "https://localhost:8080/"
        },
        "outputId": "c91d1c79-aa22-4c37-d39a-31c9ba18d7b7"
      },
      "execution_count": 95,
      "outputs": [
        {
          "output_type": "stream",
          "name": "stdout",
          "text": [
            "         0    1         2    3         4    ...       146  147  148  149       150\n",
            "0   0.000000  0.0  0.000000  0.0  0.198162  ...  0.000000  0.0  0.0  0.0  0.000000\n",
            "1   0.000000  0.0  0.157596  0.0  0.157596  ...  0.000000  0.0  0.0  0.0  0.000000\n",
            "2   0.000000  0.0  0.000000  0.0  0.198679  ...  0.000000  0.0  0.0  0.0  0.000000\n",
            "3   0.368893  0.0  0.000000  0.0  0.000000  ...  0.000000  0.0  0.0  0.0  0.433945\n",
            "4   0.000000  0.0  0.000000  0.0  0.000000  ...  0.000000  0.0  0.0  0.0  0.000000\n",
            "5   0.000000  0.0  0.000000  0.0  0.000000  ...  0.000000  0.0  0.0  0.0  0.000000\n",
            "6   0.000000  0.0  0.000000  0.0  0.000000  ...  0.375948  0.0  0.0  0.0  0.000000\n",
            "7   0.000000  0.0  0.000000  0.0  0.000000  ...  0.000000  0.0  0.0  0.0  0.000000\n",
            "8   0.000000  0.0  0.000000  0.0  0.000000  ...  0.000000  0.0  0.0  0.0  0.000000\n",
            "9   0.000000  0.0  0.000000  0.0  0.000000  ...  0.000000  0.0  0.0  0.0  0.000000\n",
            "10  0.000000  0.0  0.318441  0.0  0.318441  ...  0.000000  0.0  0.0  0.0  0.000000\n",
            "\n",
            "[11 rows x 151 columns]\n"
          ]
        }
      ]
    },
    {
      "cell_type": "code",
      "source": [
        "# Initiate iteration counter\n",
        "iterations = 0\n",
        "\n",
        "# Containers to hold f1_scores and # of pseudo-labels\n",
        "train_f1s = []\n",
        "test_f1s = []\n",
        "pseudo_labels = []\n",
        "\n",
        "# Assign value to initiate while loop\n",
        "high_prob = [1] \n",
        "\n",
        "# Loop will run until there are no more high-probability pseudo-labels\n",
        "while len(high_prob) > 0:\n",
        "\n",
        "    clf.fit(X_train, y_train)\n",
        "    y_hat_train = clf.predict(X_train)\n",
        "    y_hat_test = clf.predict(X_test)\n",
        "\n",
        "    # Calculate and print iteration # and f1 scores, and store f1 scores\n",
        "    train_f1 = accuracy_score(y_train, y_hat_train)\n",
        "    test_f1 = accuracy_score(y_test, y_hat_test)\n",
        "    print(f\"Iteration {iterations}\")\n",
        "    print(f\"Train : {train_f1}\")\n",
        "    print(f\"Test : {test_f1}\")\n",
        "    train_f1s.append(train_f1)\n",
        "    test_f1s.append(test_f1)\n",
        "   \n",
        "    # Generate predictions and probabilities for unlabeled data\n",
        "    print(f\"Now predicting labels for unlabeled data...\")\n",
        "\n",
        "    pred_probs = clf.predict_proba(unlabel_tfmat)\n",
        "    preds = clf.predict(unlabel_tfmat)\n",
        "    prob_0 = pred_probs[:,0]\n",
        "    prob_1 = pred_probs[:,1]\n",
        "    prob_2=pred_probs[:,2]\n",
        "    prob_3=pred_probs[:,3]\n",
        "    # prob_4=pred_probs[:,4]\n",
        "\n",
        "    # Store predictions and probabilities in dataframe\n",
        "    df_pred_prob = pd.DataFrame([])\n",
        "    df_pred_prob['preds'] = preds\n",
        "    df_pred_prob['prob_0'] = prob_0\n",
        "    df_pred_prob['prob_1'] = prob_1\n",
        "    df_pred_prob['prob_2'] = prob_2\n",
        "    df_pred_prob['prob_3'] = prob_3\n",
        "    # df_pred_prob['prob_4'] = prob_4\n",
        "    df_pred_prob.index = X_unlabeled.index\n",
        "    \n",
        "    # Separate predictions with > 99% probability\n",
        "    high_prob = pd.concat([df_pred_prob.loc[df_pred_prob['prob_0'] > 0.99],df_pred_prob.loc[df_pred_prob['prob_1'] > 0.99],df_pred_prob.loc[df_pred_prob['prob_2'] > 0.99],df_pred_prob.loc[df_pred_prob['prob_3'] > 0.99]],axis=0)\n",
        "    \n",
        "    print(f\"{len(high_prob)} high-probability predictions added to training data.\")\n",
        "    \n",
        "    pseudo_labels.append(len(high_prob))\n",
        "\n",
        "    X_train = X_train.dropna()\n",
        "    X_train = pd.concat([X_train.any(), X_unlabeled.loc[high_prob.index]], axis=0)\n",
        "    # y_train = pd.concat([y_train, high_prob.preds])      \n",
        "    \n",
        "    # Drop pseudo-labeled instances from unlabeled data\n",
        "    X_unlabeled = X_unlabeled.drop(index=high_prob.index)\n",
        "    print(f\"{len(X_unlabeled)} unlabeled instances remaining.\\n\")\n",
        "    \n",
        "    # Update iteration counter\n",
        "    iterations += 1"
      ],
      "metadata": {
        "id": "IA7UPbWJOLRU",
        "colab": {
          "base_uri": "https://localhost:8080/"
        },
        "outputId": "72ee650d-8031-4aee-f243-f3bc70a4ea15"
      },
      "execution_count": 96,
      "outputs": [
        {
          "output_type": "stream",
          "name": "stdout",
          "text": [
            "Iteration 0\n",
            "Train : 1.0\n",
            "Test : 0.625\n",
            "Now predicting labels for unlabeled data...\n",
            "0 high-probability predictions added to training data.\n",
            "10 unlabeled instances remaining.\n",
            "\n"
          ]
        }
      ]
    },
    {
      "cell_type": "code",
      "source": [
        "print(df_pred_prob.index)"
      ],
      "metadata": {
        "colab": {
          "base_uri": "https://localhost:8080/"
        },
        "id": "KLQlyMF6nvYx",
        "outputId": "81033757-fc78-4bbf-e012-effff1636782"
      },
      "execution_count": 97,
      "outputs": [
        {
          "output_type": "stream",
          "name": "stdout",
          "text": [
            "Int64Index([0, 1, 2, 3, 4, 5, 6, 7, 8, 9], dtype='int64')\n"
          ]
        }
      ]
    },
    {
      "cell_type": "code",
      "source": [
        "pd.DataFrame(unlabel_tfmat).index"
      ],
      "metadata": {
        "colab": {
          "base_uri": "https://localhost:8080/"
        },
        "id": "37_0vjuioiAm",
        "outputId": "2d219778-a0bf-43e7-a5ac-ac108659909e"
      },
      "execution_count": 98,
      "outputs": [
        {
          "output_type": "execute_result",
          "data": {
            "text/plain": [
              "RangeIndex(start=0, stop=10, step=1)"
            ]
          },
          "metadata": {},
          "execution_count": 98
        }
      ]
    }
  ]
}