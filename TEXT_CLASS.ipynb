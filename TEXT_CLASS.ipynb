{
  "cells": [
    {
      "cell_type": "markdown",
      "metadata": {
        "id": "view-in-github",
        "colab_type": "text"
      },
      "source": [
        "<a href=\"https://colab.research.google.com/github/mansivai/ArrayString/blob/master/TEXT_CLASS.ipynb\" target=\"_parent\"><img src=\"https://colab.research.google.com/assets/colab-badge.svg\" alt=\"Open In Colab\"/></a>"
      ]
    },
    {
      "cell_type": "code",
      "execution_count": 10,
      "metadata": {
        "id": "nKuCM2GgEQW7"
      },
      "outputs": [],
      "source": [
        "import pandas as pd\n",
        "import numpy as np\n",
        "import nltk\n",
        "import re"
      ]
    },
    {
      "cell_type": "markdown",
      "source": [
        "Load the traing data set"
      ],
      "metadata": {
        "id": "OiAkMRthH_2a"
      }
    },
    {
      "cell_type": "code",
      "execution_count": 11,
      "metadata": {
        "colab": {
          "base_uri": "https://localhost:8080/"
        },
        "id": "9yFuogxuJ-G9",
        "outputId": "dc57558c-56ac-424e-b00e-44d1d97f42a3"
      },
      "outputs": [
        {
          "output_type": "stream",
          "name": "stdout",
          "text": [
            "Drive already mounted at /content/drive; to attempt to forcibly remount, call drive.mount(\"/content/drive\", force_remount=True).\n"
          ]
        }
      ],
      "source": [
        "from google.colab import drive\n",
        "drive.mount('/content/drive')"
      ]
    },
    {
      "cell_type": "code",
      "execution_count": 12,
      "metadata": {
        "colab": {
          "base_uri": "https://localhost:8080/",
          "height": 206
        },
        "id": "vs28ccmNO6QU",
        "outputId": "ef66d9dc-0129-40d8-d64b-1f73a8b7b1aa"
      },
      "outputs": [
        {
          "output_type": "execute_result",
          "data": {
            "text/html": [
              "\n",
              "  <div id=\"df-9a1035e7-7e8d-4592-8802-6392190eff6c\">\n",
              "    <div class=\"colab-df-container\">\n",
              "      <div>\n",
              "<style scoped>\n",
              "    .dataframe tbody tr th:only-of-type {\n",
              "        vertical-align: middle;\n",
              "    }\n",
              "\n",
              "    .dataframe tbody tr th {\n",
              "        vertical-align: top;\n",
              "    }\n",
              "\n",
              "    .dataframe thead th {\n",
              "        text-align: right;\n",
              "    }\n",
              "</style>\n",
              "<table border=\"1\" class=\"dataframe\">\n",
              "  <thead>\n",
              "    <tr style=\"text-align: right;\">\n",
              "      <th></th>\n",
              "      <th>Traning set</th>\n",
              "      <th>class</th>\n",
              "    </tr>\n",
              "  </thead>\n",
              "  <tbody>\n",
              "    <tr>\n",
              "      <th>0</th>\n",
              "      <td>The Borrower and certain lenders and agents ar...</td>\n",
              "      <td>Other</td>\n",
              "    </tr>\n",
              "    <tr>\n",
              "      <th>1</th>\n",
              "      <td>This CREDIT AGREEMENT is entered into as of No...</td>\n",
              "      <td>Preamble</td>\n",
              "    </tr>\n",
              "    <tr>\n",
              "      <th>2</th>\n",
              "      <td>This agreement is dated 22 December 2014 and m...</td>\n",
              "      <td>Preamble</td>\n",
              "    </tr>\n",
              "    <tr>\n",
              "      <th>3</th>\n",
              "      <td>This Agreement and shall be governed by and in...</td>\n",
              "      <td>Governing Law</td>\n",
              "    </tr>\n",
              "    <tr>\n",
              "      <th>4</th>\n",
              "      <td>The choice of South African law as the governi...</td>\n",
              "      <td>Governing Law</td>\n",
              "    </tr>\n",
              "  </tbody>\n",
              "</table>\n",
              "</div>\n",
              "      <button class=\"colab-df-convert\" onclick=\"convertToInteractive('df-9a1035e7-7e8d-4592-8802-6392190eff6c')\"\n",
              "              title=\"Convert this dataframe to an interactive table.\"\n",
              "              style=\"display:none;\">\n",
              "        \n",
              "  <svg xmlns=\"http://www.w3.org/2000/svg\" height=\"24px\"viewBox=\"0 0 24 24\"\n",
              "       width=\"24px\">\n",
              "    <path d=\"M0 0h24v24H0V0z\" fill=\"none\"/>\n",
              "    <path d=\"M18.56 5.44l.94 2.06.94-2.06 2.06-.94-2.06-.94-.94-2.06-.94 2.06-2.06.94zm-11 1L8.5 8.5l.94-2.06 2.06-.94-2.06-.94L8.5 2.5l-.94 2.06-2.06.94zm10 10l.94 2.06.94-2.06 2.06-.94-2.06-.94-.94-2.06-.94 2.06-2.06.94z\"/><path d=\"M17.41 7.96l-1.37-1.37c-.4-.4-.92-.59-1.43-.59-.52 0-1.04.2-1.43.59L10.3 9.45l-7.72 7.72c-.78.78-.78 2.05 0 2.83L4 21.41c.39.39.9.59 1.41.59.51 0 1.02-.2 1.41-.59l7.78-7.78 2.81-2.81c.8-.78.8-2.07 0-2.86zM5.41 20L4 18.59l7.72-7.72 1.47 1.35L5.41 20z\"/>\n",
              "  </svg>\n",
              "      </button>\n",
              "      \n",
              "  <style>\n",
              "    .colab-df-container {\n",
              "      display:flex;\n",
              "      flex-wrap:wrap;\n",
              "      gap: 12px;\n",
              "    }\n",
              "\n",
              "    .colab-df-convert {\n",
              "      background-color: #E8F0FE;\n",
              "      border: none;\n",
              "      border-radius: 50%;\n",
              "      cursor: pointer;\n",
              "      display: none;\n",
              "      fill: #1967D2;\n",
              "      height: 32px;\n",
              "      padding: 0 0 0 0;\n",
              "      width: 32px;\n",
              "    }\n",
              "\n",
              "    .colab-df-convert:hover {\n",
              "      background-color: #E2EBFA;\n",
              "      box-shadow: 0px 1px 2px rgba(60, 64, 67, 0.3), 0px 1px 3px 1px rgba(60, 64, 67, 0.15);\n",
              "      fill: #174EA6;\n",
              "    }\n",
              "\n",
              "    [theme=dark] .colab-df-convert {\n",
              "      background-color: #3B4455;\n",
              "      fill: #D2E3FC;\n",
              "    }\n",
              "\n",
              "    [theme=dark] .colab-df-convert:hover {\n",
              "      background-color: #434B5C;\n",
              "      box-shadow: 0px 1px 3px 1px rgba(0, 0, 0, 0.15);\n",
              "      filter: drop-shadow(0px 1px 2px rgba(0, 0, 0, 0.3));\n",
              "      fill: #FFFFFF;\n",
              "    }\n",
              "  </style>\n",
              "\n",
              "      <script>\n",
              "        const buttonEl =\n",
              "          document.querySelector('#df-9a1035e7-7e8d-4592-8802-6392190eff6c button.colab-df-convert');\n",
              "        buttonEl.style.display =\n",
              "          google.colab.kernel.accessAllowed ? 'block' : 'none';\n",
              "\n",
              "        async function convertToInteractive(key) {\n",
              "          const element = document.querySelector('#df-9a1035e7-7e8d-4592-8802-6392190eff6c');\n",
              "          const dataTable =\n",
              "            await google.colab.kernel.invokeFunction('convertToInteractive',\n",
              "                                                     [key], {});\n",
              "          if (!dataTable) return;\n",
              "\n",
              "          const docLinkHtml = 'Like what you see? Visit the ' +\n",
              "            '<a target=\"_blank\" href=https://colab.research.google.com/notebooks/data_table.ipynb>data table notebook</a>'\n",
              "            + ' to learn more about interactive tables.';\n",
              "          element.innerHTML = '';\n",
              "          dataTable['output_type'] = 'display_data';\n",
              "          await google.colab.output.renderOutput(dataTable, element);\n",
              "          const docLink = document.createElement('div');\n",
              "          docLink.innerHTML = docLinkHtml;\n",
              "          element.appendChild(docLink);\n",
              "        }\n",
              "      </script>\n",
              "    </div>\n",
              "  </div>\n",
              "  "
            ],
            "text/plain": [
              "                                         Traning set          class\n",
              "0  The Borrower and certain lenders and agents ar...          Other\n",
              "1  This CREDIT AGREEMENT is entered into as of No...       Preamble\n",
              "2  This agreement is dated 22 December 2014 and m...       Preamble\n",
              "3  This Agreement and shall be governed by and in...  Governing Law\n",
              "4  The choice of South African law as the governi...  Governing Law"
            ]
          },
          "metadata": {},
          "execution_count": 12
        }
      ],
      "source": [
        "data = pd.read_csv('/content/drive/MyDrive/ClauseClassification - ClauseClassification.csv' , names=[\"Traning set\",\"class\"], na_values=\" NaN\")\n",
        "data.head()"
      ]
    },
    {
      "cell_type": "code",
      "source": [
        "data=data.fillna('')"
      ],
      "metadata": {
        "id": "bxOcgOh1OW3K"
      },
      "execution_count": 23,
      "outputs": []
    },
    {
      "cell_type": "markdown",
      "source": [
        "Remove stopwords"
      ],
      "metadata": {
        "id": "PGYnV7h_H47v"
      }
    },
    {
      "cell_type": "code",
      "execution_count": 13,
      "metadata": {
        "colab": {
          "base_uri": "https://localhost:8080/"
        },
        "id": "zPc1gFMFhm8A",
        "outputId": "74c6e795-d1c8-444f-e124-932b17226c7e"
      },
      "outputs": [
        {
          "output_type": "stream",
          "name": "stdout",
          "text": [
            "[nltk_data] Downloading package stopwords to /root/nltk_data...\n",
            "[nltk_data]   Package stopwords is already up-to-date!\n",
            "[nltk_data] Downloading package wordnet to /root/nltk_data...\n",
            "[nltk_data]   Package wordnet is already up-to-date!\n",
            "[nltk_data] Downloading package punkt to /root/nltk_data...\n",
            "[nltk_data]   Package punkt is already up-to-date!\n"
          ]
        }
      ],
      "source": [
        "nltk.download('wordnet')\n",
        "nltk.download('punkt')\n",
        "from nltk.stem import WordNetLemmatizer\n",
        "from nltk.tokenize import sent_tokenize,word_tokenize"
      ]
    },
    {
      "cell_type": "code",
      "execution_count": 17,
      "metadata": {
        "id": "U7LkYDg5juoG",
        "colab": {
          "base_uri": "https://localhost:8080/"
        },
        "outputId": "7f0d7f4f-376b-4cdf-f851-cc024bd7c261"
      },
      "outputs": [
        {
          "output_type": "stream",
          "name": "stdout",
          "text": [
            "[nltk_data] Downloading package stopwords to /root/nltk_data...\n",
            "[nltk_data]   Package stopwords is already up-to-date!\n"
          ]
        }
      ],
      "source": [
        "nltk.download('stopwords')\n",
        "from nltk.corpus import stopwords\n",
        "\n",
        "def remove_stopwords(x):\n",
        "  x=word_tokenize(x)\n",
        "  stopwords_all = stopwords.words('english')\n",
        "  x = \" \".join(i for i in x if not(i in stopwords_all))\n",
        "  return x"
      ]
    },
    {
      "cell_type": "code",
      "source": [
        "data[\"Traning set\"] = data[\"Traning set\"].apply(remove_stopwords)"
      ],
      "metadata": {
        "id": "GkHk_kSMNwdd"
      },
      "execution_count": 18,
      "outputs": []
    },
    {
      "cell_type": "code",
      "execution_count": 19,
      "metadata": {
        "id": "a8CvAVCEdLcg"
      },
      "outputs": [],
      "source": [
        "def number_removal(row):\n",
        "    data1 = row['Traning set']\n",
        "    if type(data1) not in [int,float]:\n",
        "        line = re.sub(r\"[^A-Za-z\\s]\", \" \", data1.strip())\n",
        "        tokens = line.split()\n",
        "    else:\n",
        "        tokens=[]\n",
        "    return ' '.join(tokens)\n",
        "frequency_words_wo_stop = {}\n",
        "def generate_word_frequency(row):\n",
        "    data1 = row['Traning set']\n",
        "    tokens = nltk.wordpunct_tokenize(data1)\n",
        "    token_list = []\n",
        "    for token in tokens:\n",
        "        token_list.append(token.lower())\n",
        "        if token.lower() in frequency_words_wo_stop:\n",
        "            count = frequency_words_wo_stop[token.lower()]\n",
        "            count = count + 1\n",
        "            frequency_words_wo_stop[token.lower()] = count\n",
        "        else:\n",
        "            frequency_words_wo_stop[token.lower()] = 1\n",
        "    return ','.join(token_list)\n"
      ]
    },
    {
      "cell_type": "code",
      "execution_count": 20,
      "metadata": {
        "colab": {
          "base_uri": "https://localhost:8080/"
        },
        "id": "k-xvbd6Fh7JM",
        "outputId": "3e64f581-57a8-47f2-ceed-9640aa6e7d37"
      },
      "outputs": [
        {
          "output_type": "stream",
          "name": "stderr",
          "text": [
            "/usr/local/lib/python3.7/dist-packages/ipykernel_launcher.py:5: SettingWithCopyWarning: \n",
            "A value is trying to be set on a copy of a slice from a DataFrame.\n",
            "Try using .loc[row_indexer,col_indexer] = value instead\n",
            "\n",
            "See the caveats in the documentation: https://pandas.pydata.org/pandas-docs/stable/user_guide/indexing.html#returning-a-view-versus-a-copy\n",
            "  \"\"\"\n"
          ]
        }
      ],
      "source": [
        "wordnet_lemmatizer = WordNetLemmatizer()\n",
        "\n",
        "def receieve(query):\n",
        "    data1=query\n",
        "    data1['Traning set'] = data1.apply(number_removal,axis=1)\n",
        "    data1['tokens'] = data1.apply(generate_word_frequency,axis=1)\n",
        "    # print (data1.head())\n",
        "    big=[]\n",
        "    for i in data1['tokens']:\n",
        "        st=''\n",
        "        ls=[]\n",
        "        for j in i.split(','):\n",
        "            # print (wordnet_lemmatizer.lemmatize(j))\n",
        "            ls.append(wordnet_lemmatizer.lemmatize(j))\n",
        "        big.append(' '.join(ls))\n",
        "    data1['Traning set_lem']=big\n",
        "    return data1['Traning set_lem']\n",
        "data['Traning set']=receieve(data[['Traning set']])"
      ]
    },
    {
      "cell_type": "markdown",
      "source": [
        "Model Training"
      ],
      "metadata": {
        "id": "Sak6y6IgN8aA"
      }
    },
    {
      "cell_type": "code",
      "execution_count": 21,
      "metadata": {
        "id": "UKp-w3g_WI0I"
      },
      "outputs": [],
      "source": [
        "class_names=['Preamble','Governing Law','Lender Defaulting','Indemnification' , 'Other']"
      ]
    },
    {
      "cell_type": "code",
      "execution_count": 48,
      "metadata": {
        "id": "LjYJhtA_o-x8"
      },
      "outputs": [],
      "source": [
        "data = data.sample(frac=1, random_state=15).reset_index(drop=True)"
      ]
    },
    {
      "cell_type": "code",
      "execution_count": 49,
      "metadata": {
        "id": "O35DaT_nqrd5"
      },
      "outputs": [],
      "source": [
        "arr=data['Traning set'].tolist()\n",
        "arr_lbl = data['class'].tolist()"
      ]
    },
    {
      "cell_type": "code",
      "execution_count": 50,
      "metadata": {
        "id": "DGxr8eDxwTKl"
      },
      "outputs": [],
      "source": [
        "train_arr = arr[:23]\n",
        "test_arr = arr[23:]\n",
        "train_lbl  = arr_lbl[:23]\n",
        "test_lbl  = arr_lbl[23:]"
      ]
    },
    {
      "cell_type": "code",
      "execution_count": 51,
      "metadata": {
        "id": "hhRdj7SUrGej"
      },
      "outputs": [],
      "source": [
        "from sklearn.feature_extraction.text import CountVectorizer, TfidfTransformer"
      ]
    },
    {
      "cell_type": "code",
      "execution_count": 52,
      "metadata": {
        "colab": {
          "base_uri": "https://localhost:8080/"
        },
        "id": "XPUtm597rLxC",
        "outputId": "944c6838-e8e8-4076-d277-4713acae7c49"
      },
      "outputs": [
        {
          "output_type": "stream",
          "name": "stdout",
          "text": [
            "(23, 242)\n",
            "(4, 242)\n"
          ]
        }
      ],
      "source": [
        "vectorizer = CountVectorizer()\n",
        "vectorizer.fit(train_arr)\n",
        "train_mat = vectorizer.transform(train_arr)\n",
        "print (train_mat.shape)\n",
        "test_mat = vectorizer.transform(test_arr)\n",
        "print (test_mat.shape)"
      ]
    },
    {
      "cell_type": "code",
      "execution_count": 53,
      "metadata": {
        "colab": {
          "base_uri": "https://localhost:8080/"
        },
        "id": "fx4GWy66rdEe",
        "outputId": "feb3c9d6-f633-43b5-c224-f5d58cb53f8c"
      },
      "outputs": [
        {
          "output_type": "stream",
          "name": "stdout",
          "text": [
            "(23, 242)\n",
            "(4, 242)\n"
          ]
        }
      ],
      "source": [
        "tfidf = TfidfTransformer()\n",
        "tfidf.fit(train_mat)\n",
        "train_tfmat = tfidf.transform(train_mat)\n",
        "print (train_tfmat.shape)\n",
        "test_tfmat = tfidf.transform(test_mat)\n",
        "print (test_tfmat.shape)"
      ]
    },
    {
      "cell_type": "code",
      "execution_count": 54,
      "metadata": {
        "id": "HBOm_GppryDb"
      },
      "outputs": [],
      "source": [
        "del train_arr"
      ]
    },
    {
      "cell_type": "code",
      "execution_count": 55,
      "metadata": {
        "id": "ntY6Ks0cr45m"
      },
      "outputs": [],
      "source": [
        "from sklearn.naive_bayes import BernoulliNB, GaussianNB, MultinomialNB\n",
        "from pprint import pprint\n",
        "import matplotlib.pyplot as plt\n",
        "import itertools\n",
        "from sklearn.metrics import confusion_matrix,accuracy_score"
      ]
    },
    {
      "cell_type": "code",
      "execution_count": 56,
      "metadata": {
        "id": "CoEdcPcFsMc9"
      },
      "outputs": [],
      "source": [
        "def plot_confusion_matrix(cm, classes, normalize=False, title='Confusion matrix',cmap=plt.cm.Reds):\n",
        "    plt.imshow(cm, interpolation='nearest', cmap=cmap)\n",
        "    plt.title(title)\n",
        "    plt.colorbar()\n",
        "    tick_marks = np.arange(len(classes))\n",
        "    plt.xticks(tick_marks, classes, rotation=90)\n",
        "    plt.yticks(tick_marks, classes)\n",
        "\n",
        "    print(cm)\n",
        "    thresh = cm.max() / 2.\n",
        "    for i, j in itertools.product(range(cm.shape[0]), range(cm.shape[1])):\n",
        "        plt.text(j, i, cm[i, j], horizontalalignment=\"center\", color=\"white\" if cm[i, j] > thresh else \"black\")\n",
        "\n",
        "    plt.tight_layout()\n",
        "    plt.ylabel('True label')\n",
        "    plt.xlabel('Predicted label')\n",
        "    "
      ]
    },
    {
      "cell_type": "markdown",
      "source": [
        "#Naive Bayes "
      ],
      "metadata": {
        "id": "HU3UqilGwOVT"
      }
    },
    {
      "cell_type": "markdown",
      "source": [
        "Bernoulli Nave Bayes\n"
      ],
      "metadata": {
        "id": "z9Ouia1Xu4UC"
      }
    },
    {
      "cell_type": "code",
      "execution_count": 57,
      "metadata": {
        "colab": {
          "base_uri": "https://localhost:8080/"
        },
        "id": "_RQlNYpZoURJ",
        "outputId": "58ea322c-18fb-4cd6-9669-7ad763137a84"
      },
      "outputs": [
        {
          "output_type": "stream",
          "name": "stdout",
          "text": [
            "Bernoulli accuracy score\n",
            "0.5\n"
          ]
        }
      ],
      "source": [
        "bnb= BernoulliNB()\n",
        "#fitting\n",
        "bnb.fit(train_tfmat, train_lbl)\n",
        "#ypred\n",
        "ypredBnb = bnb.predict(test_tfmat)\n",
        "print ('Bernoulli accuracy score')\n",
        "print (accuracy_score(test_lbl, ypredBnb))"
      ]
    },
    {
      "cell_type": "code",
      "execution_count": 58,
      "metadata": {
        "colab": {
          "base_uri": "https://localhost:8080/",
          "height": 662
        },
        "id": "vZ3Q32XVouha",
        "outputId": "2a709227-09cf-421d-dd95-b25244ecc7ae"
      },
      "outputs": [
        {
          "output_type": "stream",
          "name": "stdout",
          "text": [
            "[[0 1 0 1 0]\n",
            " [0 0 0 0 0]\n",
            " [0 0 1 0 0]\n",
            " [0 0 0 0 0]\n",
            " [0 0 0 0 1]]\n"
          ]
        },
        {
          "output_type": "display_data",
          "data": {
            "image/png": "[encoded data removed]",
            "text/plain": [
              "<Figure size 576x576 with 2 Axes>"
            ]
          },
          "metadata": {
            "needs_background": "light"
          }
        }
      ],
      "source": [
        "plt.figure(figsize=(8,8))\n",
        "plot_confusion_matrix(confusion_matrix(test_lbl, ypredBnb), classes=class_names,  title='Bernoulli Confusion matrix')\n",
        "plt.show()"
      ]
    },
    {
      "cell_type": "markdown",
      "source": [
        "Multinomial Naive Bayes\n"
      ],
      "metadata": {
        "id": "gKWIOcniu_7Y"
      }
    },
    {
      "cell_type": "code",
      "execution_count": 59,
      "metadata": {
        "colab": {
          "base_uri": "https://localhost:8080/"
        },
        "id": "vt08EoWezCHh",
        "outputId": "de5b507f-740f-4179-bf81-5a7f99a49cdb"
      },
      "outputs": [
        {
          "output_type": "stream",
          "name": "stdout",
          "text": [
            "Multinomial accuracy score\n",
            "0.5\n"
          ]
        }
      ],
      "source": [
        "mnb=MultinomialNB()\n",
        "#fitting\n",
        "mnb.fit(train_tfmat, train_lbl)\n",
        "ypredMnb = mnb.predict(test_tfmat)\n",
        "print ('Multinomial accuracy score')\n",
        "print (accuracy_score(test_lbl, ypredMnb))"
      ]
    },
    {
      "cell_type": "code",
      "execution_count": 60,
      "metadata": {
        "colab": {
          "base_uri": "https://localhost:8080/",
          "height": 662
        },
        "id": "YKWnqrEhzIJm",
        "outputId": "a4324110-6e95-41ec-c32f-f92a51dee2f8"
      },
      "outputs": [
        {
          "output_type": "stream",
          "name": "stdout",
          "text": [
            "[[0 1 0 1 0]\n",
            " [0 0 0 0 0]\n",
            " [0 0 1 0 0]\n",
            " [0 0 0 0 0]\n",
            " [0 0 0 0 1]]\n"
          ]
        },
        {
          "output_type": "display_data",
          "data": {
            "image/png": "[encoded data removed]",
            "text/plain": [
              "<Figure size 576x576 with 2 Axes>"
            ]
          },
          "metadata": {
            "needs_background": "light"
          }
        }
      ],
      "source": [
        "plt.figure(figsize=(8,8))\n",
        "plot_confusion_matrix(confusion_matrix(test_lbl, ypredMnb), classes=class_names,\n",
        "                      title='Multinomial Confusion matrix')\n",
        "\n",
        "plt.show()"
      ]
    },
    {
      "cell_type": "markdown",
      "source": [
        "#SVM"
      ],
      "metadata": {
        "id": "jbI2XkJyvKvH"
      }
    },
    {
      "cell_type": "code",
      "execution_count": 61,
      "metadata": {
        "id": "a9iUzm-N0V70"
      },
      "outputs": [],
      "source": [
        "from sklearn.svm import LinearSVC, NuSVC, SVC"
      ]
    },
    {
      "cell_type": "markdown",
      "source": [
        "Linear SVC"
      ],
      "metadata": {
        "id": "jjQvzItAvS1X"
      }
    },
    {
      "cell_type": "code",
      "execution_count": 62,
      "metadata": {
        "id": "OWHX_lkk09lL"
      },
      "outputs": [],
      "source": [
        "lsvm= LinearSVC()\n",
        "#fitting\n",
        "lsvm.fit(train_tfmat, train_lbl)\n",
        "#ypred\n",
        "ypredLsvm = lsvm.predict(test_tfmat)"
      ]
    },
    {
      "cell_type": "code",
      "execution_count": 63,
      "metadata": {
        "colab": {
          "base_uri": "https://localhost:8080/"
        },
        "id": "8mHFMRr10u0z",
        "outputId": "1861ea02-2227-492d-92f7-68dd178af97e"
      },
      "outputs": [
        {
          "output_type": "stream",
          "name": "stdout",
          "text": [
            "Linear Svm accuracy score\n",
            "1.0\n"
          ]
        }
      ],
      "source": [
        "print ('Linear Svm accuracy score')\n",
        "print (accuracy_score(test_lbl, ypredLsvm))"
      ]
    },
    {
      "cell_type": "code",
      "execution_count": 64,
      "metadata": {
        "colab": {
          "base_uri": "https://localhost:8080/",
          "height": 627
        },
        "id": "HwhYrqjX1Ntq",
        "outputId": "cecf8ae8-31eb-4596-cb6d-7c4a229daaf6"
      },
      "outputs": [
        {
          "output_type": "stream",
          "name": "stdout",
          "text": [
            "[[2 0 0]\n",
            " [0 1 0]\n",
            " [0 0 1]]\n"
          ]
        },
        {
          "output_type": "display_data",
          "data": {
            "image/png": "[encoded data removed]",
            "text/plain": [
              "<Figure size 576x576 with 2 Axes>"
            ]
          },
          "metadata": {
            "needs_background": "light"
          }
        }
      ],
      "source": [
        "plt.figure(figsize=(8,8))\n",
        "plot_confusion_matrix(confusion_matrix(test_lbl, ypredLsvm), classes=class_names,\n",
        "                      title='linear svm Confusion matrix')\n",
        "\n",
        "plt.show()"
      ]
    },
    {
      "cell_type": "markdown",
      "source": [
        "Non linear svm"
      ],
      "metadata": {
        "id": "sQV0vKaMvcPl"
      }
    },
    {
      "cell_type": "code",
      "execution_count": 65,
      "metadata": {
        "colab": {
          "base_uri": "https://localhost:8080/"
        },
        "id": "kuefva-J1UF8",
        "outputId": "fd245675-6da6-48b4-de38-d1be60b02716"
      },
      "outputs": [
        {
          "output_type": "stream",
          "name": "stdout",
          "text": [
            "Non Linear svm accuracy score\n",
            "0.75\n"
          ]
        }
      ],
      "source": [
        "nusvm=NuSVC()\n",
        "#fitting\n",
        "nusvm.fit(train_tfmat, train_lbl)\n",
        "#ypred\n",
        "ypredNusvm = nusvm.predict(test_tfmat)\n",
        "print ('Non Linear svm accuracy score')\n",
        "print (accuracy_score(test_lbl, ypredNusvm))"
      ]
    },
    {
      "cell_type": "code",
      "execution_count": 66,
      "metadata": {
        "colab": {
          "base_uri": "https://localhost:8080/",
          "height": 644
        },
        "id": "9m0hclKs1g3x",
        "outputId": "fcfe035c-0e55-44f8-c01d-5a4c14c93b7c"
      },
      "outputs": [
        {
          "output_type": "stream",
          "name": "stdout",
          "text": [
            "[[1 0 1 0]\n",
            " [0 1 0 0]\n",
            " [0 0 0 0]\n",
            " [0 0 0 1]]\n"
          ]
        },
        {
          "output_type": "display_data",
          "data": {
            "image/png": "[encoded data removed]",
            "text/plain": [
              "<Figure size 576x576 with 2 Axes>"
            ]
          },
          "metadata": {
            "needs_background": "light"
          }
        }
      ],
      "source": [
        "plt.figure(figsize=(8,8))\n",
        "plot_confusion_matrix(confusion_matrix(test_lbl, ypredNusvm), classes=class_names,\n",
        "                      title=' Nusvm Confusion matrix')\n",
        "\n",
        "plt.show()"
      ]
    },
    {
      "cell_type": "markdown",
      "source": [
        "#KNN"
      ],
      "metadata": {
        "id": "okexMA8Mvgab"
      }
    },
    {
      "cell_type": "code",
      "execution_count": 67,
      "metadata": {
        "id": "ASIllFVq1zmt"
      },
      "outputs": [],
      "source": [
        "from sklearn.neighbors import KNeighborsClassifier"
      ]
    },
    {
      "cell_type": "markdown",
      "source": [
        "Uniform KNN"
      ],
      "metadata": {
        "id": "4_GJlm3wvn3e"
      }
    },
    {
      "cell_type": "code",
      "execution_count": 68,
      "metadata": {
        "colab": {
          "base_uri": "https://localhost:8080/"
        },
        "id": "VacGQ1ly16o6",
        "outputId": "ed471c9b-1545-4ab4-ea91-b7c4e82e0405"
      },
      "outputs": [
        {
          "output_type": "stream",
          "name": "stdout",
          "text": [
            "Distant accuracy score\n",
            "1.0\n"
          ]
        }
      ],
      "source": [
        "knn_uni = KNeighborsClassifier(n_neighbors=5, weights = 'uniform')\n",
        "#fitting\n",
        "knn_uni.fit(train_tfmat, train_lbl)\n",
        "#ypred\n",
        "ypred_knn_uni = knn_uni.predict(test_tfmat)\n",
        "print ('Distant accuracy score')\n",
        "print (accuracy_score(test_lbl, ypred_knn_uni))"
      ]
    },
    {
      "cell_type": "code",
      "execution_count": 69,
      "metadata": {
        "colab": {
          "base_uri": "https://localhost:8080/",
          "height": 627
        },
        "id": "0PeKd_0M199j",
        "outputId": "73ca775d-34f8-4b4b-f0c3-777d055d1e65"
      },
      "outputs": [
        {
          "output_type": "stream",
          "name": "stdout",
          "text": [
            "[[2 0 0]\n",
            " [0 1 0]\n",
            " [0 0 1]]\n"
          ]
        },
        {
          "output_type": "display_data",
          "data": {
            "image/png": "[encoded data removed]",
            "text/plain": [
              "<Figure size 576x576 with 2 Axes>"
            ]
          },
          "metadata": {
            "needs_background": "light"
          }
        }
      ],
      "source": [
        "plt.figure(figsize=(8,8))\n",
        "plot_confusion_matrix(confusion_matrix(test_lbl, ypred_knn_uni), classes=class_names,\n",
        "                      title=' uniform KNN Confusion matrix')\n",
        "\n",
        "plt.show()"
      ]
    },
    {
      "cell_type": "markdown",
      "source": [
        "Distinct KNN"
      ],
      "metadata": {
        "id": "r9YzLYYEvs2R"
      }
    },
    {
      "cell_type": "code",
      "execution_count": 70,
      "metadata": {
        "colab": {
          "base_uri": "https://localhost:8080/"
        },
        "id": "5soACE2o2GEA",
        "outputId": "7eb180f5-b57e-44a5-f89d-4c3681297ca3"
      },
      "outputs": [
        {
          "output_type": "stream",
          "name": "stdout",
          "text": [
            "Distant accuracy score\n",
            "1.0\n"
          ]
        }
      ],
      "source": [
        "knn_dist = KNeighborsClassifier(n_neighbors=5, weights = 'distance')\n",
        "#fitting\n",
        "knn_dist.fit(train_tfmat, train_lbl)\n",
        "#ypred\n",
        "ypred_knn_dist = knn_dist.predict(test_tfmat)\n",
        "print ('Distant accuracy score')\n",
        "print (accuracy_score(test_lbl, ypred_knn_dist))"
      ]
    },
    {
      "cell_type": "code",
      "execution_count": 71,
      "metadata": {
        "colab": {
          "base_uri": "https://localhost:8080/",
          "height": 627
        },
        "id": "FLELMY-52JvY",
        "outputId": "b11bb12e-2cd1-4b8f-8731-c3b0645b569d"
      },
      "outputs": [
        {
          "output_type": "stream",
          "name": "stdout",
          "text": [
            "[[2 0 0]\n",
            " [0 1 0]\n",
            " [0 0 1]]\n"
          ]
        },
        {
          "output_type": "display_data",
          "data": {
            "image/png": "[encoded data removed]",
            "text/plain": [
              "<Figure size 576x576 with 2 Axes>"
            ]
          },
          "metadata": {
            "needs_background": "light"
          }
        }
      ],
      "source": [
        "plt.figure(figsize=(8,8))\n",
        "plot_confusion_matrix(confusion_matrix(test_lbl, ypred_knn_dist), classes=class_names,  title=' distant KNN Confusion matrix')\n",
        "\n",
        "plt.show()"
      ]
    }
  ],
  "metadata": {
    "colab": {
      "collapsed_sections": [],
      "name": "TEXT_CLASS.ipynb",
      "provenance": [],
      "authorship_tag": "ABX9TyPWAJ0yNMik9WvpRB2QX3Wk",
      "include_colab_link": true
    },
    "kernelspec": {
      "display_name": "Python 3",
      "name": "python3"
    },
    "language_info": {
      "name": "python"
    }
  },
  "nbformat": 4,
  "nbformat_minor": 0
}