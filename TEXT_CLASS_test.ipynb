{
  "cells": [
    {
      "cell_type": "markdown",
      "metadata": {
        "id": "view-in-github",
        "colab_type": "text"
      },
      "source": [
        "<a href=\"https://colab.research.google.com/github/mansivai/ArrayString/blob/master/TEXT_CLASS_test.ipynb\" target=\"_parent\"><img src=\"https://colab.research.google.com/assets/colab-badge.svg\" alt=\"Open In Colab\"/></a>"
      ]
    },
    {
      "cell_type": "code",
      "execution_count": 1,
      "metadata": {
        "id": "nKuCM2GgEQW7"
      },
      "outputs": [],
      "source": [
        "import pandas as pd\n",
        "import numpy as np\n",
        "import nltk\n",
        "import re"
      ]
    },
    {
      "cell_type": "markdown",
      "source": [
        "Load the traing data set"
      ],
      "metadata": {
        "id": "OiAkMRthH_2a"
      }
    },
    {
      "cell_type": "code",
      "execution_count": 2,
      "metadata": {
        "colab": {
          "base_uri": "https://localhost:8080/"
        },
        "id": "9yFuogxuJ-G9",
        "outputId": "332a147d-733c-4e30-ac64-1a6d3921eb96"
      },
      "outputs": [
        {
          "output_type": "stream",
          "name": "stdout",
          "text": [
            "Mounted at /content/drive\n"
          ]
        }
      ],
      "source": [
        "from google.colab import drive\n",
        "drive.mount('/content/drive')"
      ]
    },
    {
      "cell_type": "code",
      "execution_count": 3,
      "metadata": {
        "colab": {
          "base_uri": "https://localhost:8080/",
          "height": 206
        },
        "id": "vs28ccmNO6QU",
        "outputId": "9abe6f59-d1d9-40ba-b183-700331abccf5"
      },
      "outputs": [
        {
          "output_type": "execute_result",
          "data": {
            "text/html": [
              "\n",
              "  <div id=\"df-31bbcdf1-fa64-44d0-a529-c84c4ec0a1ea\">\n",
              "    <div class=\"colab-df-container\">\n",
              "      <div>\n",
              "<style scoped>\n",
              "    .dataframe tbody tr th:only-of-type {\n",
              "        vertical-align: middle;\n",
              "    }\n",
              "\n",
              "    .dataframe tbody tr th {\n",
              "        vertical-align: top;\n",
              "    }\n",
              "\n",
              "    .dataframe thead th {\n",
              "        text-align: right;\n",
              "    }\n",
              "</style>\n",
              "<table border=\"1\" class=\"dataframe\">\n",
              "  <thead>\n",
              "    <tr style=\"text-align: right;\">\n",
              "      <th></th>\n",
              "      <th>Traning set</th>\n",
              "      <th>class</th>\n",
              "    </tr>\n",
              "  </thead>\n",
              "  <tbody>\n",
              "    <tr>\n",
              "      <th>0</th>\n",
              "      <td>The Borrower and certain lenders and agents ar...</td>\n",
              "      <td>Other</td>\n",
              "    </tr>\n",
              "    <tr>\n",
              "      <th>1</th>\n",
              "      <td>This CREDIT AGREEMENT is entered into as of No...</td>\n",
              "      <td>Preamble</td>\n",
              "    </tr>\n",
              "    <tr>\n",
              "      <th>2</th>\n",
              "      <td>This agreement is dated 22 December 2014 and m...</td>\n",
              "      <td>Preamble</td>\n",
              "    </tr>\n",
              "    <tr>\n",
              "      <th>3</th>\n",
              "      <td>This Agreement and shall be governed by and in...</td>\n",
              "      <td>Governing Law</td>\n",
              "    </tr>\n",
              "    <tr>\n",
              "      <th>4</th>\n",
              "      <td>The choice of South African law as the governi...</td>\n",
              "      <td>Governing Law</td>\n",
              "    </tr>\n",
              "  </tbody>\n",
              "</table>\n",
              "</div>\n",
              "      <button class=\"colab-df-convert\" onclick=\"convertToInteractive('df-31bbcdf1-fa64-44d0-a529-c84c4ec0a1ea')\"\n",
              "              title=\"Convert this dataframe to an interactive table.\"\n",
              "              style=\"display:none;\">\n",
              "        \n",
              "  <svg xmlns=\"http://www.w3.org/2000/svg\" height=\"24px\"viewBox=\"0 0 24 24\"\n",
              "       width=\"24px\">\n",
              "    <path d=\"M0 0h24v24H0V0z\" fill=\"none\"/>\n",
              "    <path d=\"M18.56 5.44l.94 2.06.94-2.06 2.06-.94-2.06-.94-.94-2.06-.94 2.06-2.06.94zm-11 1L8.5 8.5l.94-2.06 2.06-.94-2.06-.94L8.5 2.5l-.94 2.06-2.06.94zm10 10l.94 2.06.94-2.06 2.06-.94-2.06-.94-.94-2.06-.94 2.06-2.06.94z\"/><path d=\"M17.41 7.96l-1.37-1.37c-.4-.4-.92-.59-1.43-.59-.52 0-1.04.2-1.43.59L10.3 9.45l-7.72 7.72c-.78.78-.78 2.05 0 2.83L4 21.41c.39.39.9.59 1.41.59.51 0 1.02-.2 1.41-.59l7.78-7.78 2.81-2.81c.8-.78.8-2.07 0-2.86zM5.41 20L4 18.59l7.72-7.72 1.47 1.35L5.41 20z\"/>\n",
              "  </svg>\n",
              "      </button>\n",
              "      \n",
              "  <style>\n",
              "    .colab-df-container {\n",
              "      display:flex;\n",
              "      flex-wrap:wrap;\n",
              "      gap: 12px;\n",
              "    }\n",
              "\n",
              "    .colab-df-convert {\n",
              "      background-color: #E8F0FE;\n",
              "      border: none;\n",
              "      border-radius: 50%;\n",
              "      cursor: pointer;\n",
              "      display: none;\n",
              "      fill: #1967D2;\n",
              "      height: 32px;\n",
              "      padding: 0 0 0 0;\n",
              "      width: 32px;\n",
              "    }\n",
              "\n",
              "    .colab-df-convert:hover {\n",
              "      background-color: #E2EBFA;\n",
              "      box-shadow: 0px 1px 2px rgba(60, 64, 67, 0.3), 0px 1px 3px 1px rgba(60, 64, 67, 0.15);\n",
              "      fill: #174EA6;\n",
              "    }\n",
              "\n",
              "    [theme=dark] .colab-df-convert {\n",
              "      background-color: #3B4455;\n",
              "      fill: #D2E3FC;\n",
              "    }\n",
              "\n",
              "    [theme=dark] .colab-df-convert:hover {\n",
              "      background-color: #434B5C;\n",
              "      box-shadow: 0px 1px 3px 1px rgba(0, 0, 0, 0.15);\n",
              "      filter: drop-shadow(0px 1px 2px rgba(0, 0, 0, 0.3));\n",
              "      fill: #FFFFFF;\n",
              "    }\n",
              "  </style>\n",
              "\n",
              "      <script>\n",
              "        const buttonEl =\n",
              "          document.querySelector('#df-31bbcdf1-fa64-44d0-a529-c84c4ec0a1ea button.colab-df-convert');\n",
              "        buttonEl.style.display =\n",
              "          google.colab.kernel.accessAllowed ? 'block' : 'none';\n",
              "\n",
              "        async function convertToInteractive(key) {\n",
              "          const element = document.querySelector('#df-31bbcdf1-fa64-44d0-a529-c84c4ec0a1ea');\n",
              "          const dataTable =\n",
              "            await google.colab.kernel.invokeFunction('convertToInteractive',\n",
              "                                                     [key], {});\n",
              "          if (!dataTable) return;\n",
              "\n",
              "          const docLinkHtml = 'Like what you see? Visit the ' +\n",
              "            '<a target=\"_blank\" href=https://colab.research.google.com/notebooks/data_table.ipynb>data table notebook</a>'\n",
              "            + ' to learn more about interactive tables.';\n",
              "          element.innerHTML = '';\n",
              "          dataTable['output_type'] = 'display_data';\n",
              "          await google.colab.output.renderOutput(dataTable, element);\n",
              "          const docLink = document.createElement('div');\n",
              "          docLink.innerHTML = docLinkHtml;\n",
              "          element.appendChild(docLink);\n",
              "        }\n",
              "      </script>\n",
              "    </div>\n",
              "  </div>\n",
              "  "
            ],
            "text/plain": [
              "                                         Traning set          class\n",
              "0  The Borrower and certain lenders and agents ar...          Other\n",
              "1  This CREDIT AGREEMENT is entered into as of No...       Preamble\n",
              "2  This agreement is dated 22 December 2014 and m...       Preamble\n",
              "3  This Agreement and shall be governed by and in...  Governing Law\n",
              "4  The choice of South African law as the governi...  Governing Law"
            ]
          },
          "metadata": {},
          "execution_count": 3
        }
      ],
      "source": [
        "data = pd.read_csv('/content/drive/MyDrive/ClauseClassification - ClauseClassification.csv' , names=[\"Traning set\",\"class\"], na_values=\"NaN\")\n",
        "data.head()"
      ]
    },
    {
      "cell_type": "code",
      "source": [
        "uf = pd.read_csv('/content/drive/MyDrive/TextClassification_test - Sheet1.csv' , names=[\"Traning set\"], na_values=\" NaN\")\n",
        "uf.head()"
      ],
      "metadata": {
        "colab": {
          "base_uri": "https://localhost:8080/",
          "height": 206
        },
        "id": "cCMeVWlTRsge",
        "outputId": "ab345c48-1fec-4d64-a792-2f22837dd70a"
      },
      "execution_count": 4,
      "outputs": [
        {
          "output_type": "execute_result",
          "data": {
            "text/html": [
              "\n",
              "  <div id=\"df-999c6f92-071c-4857-9b7b-591271bea2ce\">\n",
              "    <div class=\"colab-df-container\">\n",
              "      <div>\n",
              "<style scoped>\n",
              "    .dataframe tbody tr th:only-of-type {\n",
              "        vertical-align: middle;\n",
              "    }\n",
              "\n",
              "    .dataframe tbody tr th {\n",
              "        vertical-align: top;\n",
              "    }\n",
              "\n",
              "    .dataframe thead th {\n",
              "        text-align: right;\n",
              "    }\n",
              "</style>\n",
              "<table border=\"1\" class=\"dataframe\">\n",
              "  <thead>\n",
              "    <tr style=\"text-align: right;\">\n",
              "      <th></th>\n",
              "      <th>Traning set</th>\n",
              "    </tr>\n",
              "  </thead>\n",
              "  <tbody>\n",
              "    <tr>\n",
              "      <th>0</th>\n",
              "      <td>Amendment No. 1 dated as of February 4, 2016 (...</td>\n",
              "    </tr>\n",
              "    <tr>\n",
              "      <th>1</th>\n",
              "      <td>Subject to the Legal Reservations, (a) the cho...</td>\n",
              "    </tr>\n",
              "    <tr>\n",
              "      <th>2</th>\n",
              "      <td>This Agreement, and any non-contractual obliga...</td>\n",
              "    </tr>\n",
              "    <tr>\n",
              "      <th>3</th>\n",
              "      <td>Each Lender agrees to indemnify the Administra...</td>\n",
              "    </tr>\n",
              "    <tr>\n",
              "      <th>4</th>\n",
              "      <td>Any Lender that (a) has failed to (i) fund all...</td>\n",
              "    </tr>\n",
              "  </tbody>\n",
              "</table>\n",
              "</div>\n",
              "      <button class=\"colab-df-convert\" onclick=\"convertToInteractive('df-999c6f92-071c-4857-9b7b-591271bea2ce')\"\n",
              "              title=\"Convert this dataframe to an interactive table.\"\n",
              "              style=\"display:none;\">\n",
              "        \n",
              "  <svg xmlns=\"http://www.w3.org/2000/svg\" height=\"24px\"viewBox=\"0 0 24 24\"\n",
              "       width=\"24px\">\n",
              "    <path d=\"M0 0h24v24H0V0z\" fill=\"none\"/>\n",
              "    <path d=\"M18.56 5.44l.94 2.06.94-2.06 2.06-.94-2.06-.94-.94-2.06-.94 2.06-2.06.94zm-11 1L8.5 8.5l.94-2.06 2.06-.94-2.06-.94L8.5 2.5l-.94 2.06-2.06.94zm10 10l.94 2.06.94-2.06 2.06-.94-2.06-.94-.94-2.06-.94 2.06-2.06.94z\"/><path d=\"M17.41 7.96l-1.37-1.37c-.4-.4-.92-.59-1.43-.59-.52 0-1.04.2-1.43.59L10.3 9.45l-7.72 7.72c-.78.78-.78 2.05 0 2.83L4 21.41c.39.39.9.59 1.41.59.51 0 1.02-.2 1.41-.59l7.78-7.78 2.81-2.81c.8-.78.8-2.07 0-2.86zM5.41 20L4 18.59l7.72-7.72 1.47 1.35L5.41 20z\"/>\n",
              "  </svg>\n",
              "      </button>\n",
              "      \n",
              "  <style>\n",
              "    .colab-df-container {\n",
              "      display:flex;\n",
              "      flex-wrap:wrap;\n",
              "      gap: 12px;\n",
              "    }\n",
              "\n",
              "    .colab-df-convert {\n",
              "      background-color: #E8F0FE;\n",
              "      border: none;\n",
              "      border-radius: 50%;\n",
              "      cursor: pointer;\n",
              "      display: none;\n",
              "      fill: #1967D2;\n",
              "      height: 32px;\n",
              "      padding: 0 0 0 0;\n",
              "      width: 32px;\n",
              "    }\n",
              "\n",
              "    .colab-df-convert:hover {\n",
              "      background-color: #E2EBFA;\n",
              "      box-shadow: 0px 1px 2px rgba(60, 64, 67, 0.3), 0px 1px 3px 1px rgba(60, 64, 67, 0.15);\n",
              "      fill: #174EA6;\n",
              "    }\n",
              "\n",
              "    [theme=dark] .colab-df-convert {\n",
              "      background-color: #3B4455;\n",
              "      fill: #D2E3FC;\n",
              "    }\n",
              "\n",
              "    [theme=dark] .colab-df-convert:hover {\n",
              "      background-color: #434B5C;\n",
              "      box-shadow: 0px 1px 3px 1px rgba(0, 0, 0, 0.15);\n",
              "      filter: drop-shadow(0px 1px 2px rgba(0, 0, 0, 0.3));\n",
              "      fill: #FFFFFF;\n",
              "    }\n",
              "  </style>\n",
              "\n",
              "      <script>\n",
              "        const buttonEl =\n",
              "          document.querySelector('#df-999c6f92-071c-4857-9b7b-591271bea2ce button.colab-df-convert');\n",
              "        buttonEl.style.display =\n",
              "          google.colab.kernel.accessAllowed ? 'block' : 'none';\n",
              "\n",
              "        async function convertToInteractive(key) {\n",
              "          const element = document.querySelector('#df-999c6f92-071c-4857-9b7b-591271bea2ce');\n",
              "          const dataTable =\n",
              "            await google.colab.kernel.invokeFunction('convertToInteractive',\n",
              "                                                     [key], {});\n",
              "          if (!dataTable) return;\n",
              "\n",
              "          const docLinkHtml = 'Like what you see? Visit the ' +\n",
              "            '<a target=\"_blank\" href=https://colab.research.google.com/notebooks/data_table.ipynb>data table notebook</a>'\n",
              "            + ' to learn more about interactive tables.';\n",
              "          element.innerHTML = '';\n",
              "          dataTable['output_type'] = 'display_data';\n",
              "          await google.colab.output.renderOutput(dataTable, element);\n",
              "          const docLink = document.createElement('div');\n",
              "          docLink.innerHTML = docLinkHtml;\n",
              "          element.appendChild(docLink);\n",
              "        }\n",
              "      </script>\n",
              "    </div>\n",
              "  </div>\n",
              "  "
            ],
            "text/plain": [
              "                                         Traning set\n",
              "0  Amendment No. 1 dated as of February 4, 2016 (...\n",
              "1  Subject to the Legal Reservations, (a) the cho...\n",
              "2  This Agreement, and any non-contractual obliga...\n",
              "3  Each Lender agrees to indemnify the Administra...\n",
              "4  Any Lender that (a) has failed to (i) fund all..."
            ]
          },
          "metadata": {},
          "execution_count": 4
        }
      ]
    },
    {
      "cell_type": "code",
      "source": [
        "# training data\n",
        "data=data.fillna('')\n",
        "# test data\n",
        "uf=uf.fillna('')\n"
      ],
      "metadata": {
        "id": "bxOcgOh1OW3K"
      },
      "execution_count": 6,
      "outputs": []
    },
    {
      "cell_type": "markdown",
      "source": [
        "Remove stopwords"
      ],
      "metadata": {
        "id": "PGYnV7h_H47v"
      }
    },
    {
      "cell_type": "code",
      "execution_count": 7,
      "metadata": {
        "colab": {
          "base_uri": "https://localhost:8080/"
        },
        "id": "zPc1gFMFhm8A",
        "outputId": "e86af650-0402-499b-8e27-a4aef413b2d1"
      },
      "outputs": [
        {
          "output_type": "stream",
          "name": "stdout",
          "text": [
            "[nltk_data] Downloading package wordnet to /root/nltk_data...\n",
            "[nltk_data]   Unzipping corpora/wordnet.zip.\n",
            "[nltk_data] Downloading package punkt to /root/nltk_data...\n",
            "[nltk_data]   Unzipping tokenizers/punkt.zip.\n"
          ]
        }
      ],
      "source": [
        "nltk.download('wordnet')\n",
        "nltk.download('punkt')\n",
        "from nltk.stem import WordNetLemmatizer\n",
        "from nltk.tokenize import sent_tokenize,word_tokenize"
      ]
    },
    {
      "cell_type": "code",
      "execution_count": 9,
      "metadata": {
        "id": "U7LkYDg5juoG",
        "colab": {
          "base_uri": "https://localhost:8080/"
        },
        "outputId": "0b28bdf6-3a5b-4d01-80d0-a387a9bb041a"
      },
      "outputs": [
        {
          "output_type": "stream",
          "name": "stdout",
          "text": [
            "[nltk_data] Downloading package stopwords to /root/nltk_data...\n",
            "[nltk_data]   Package stopwords is already up-to-date!\n"
          ]
        }
      ],
      "source": [
        "nltk.download('stopwords')\n",
        "from nltk.corpus import stopwords\n",
        "\n",
        "def remove_stopwords(x):\n",
        "  x=word_tokenize(x)\n",
        "  stopwords_all = stopwords.words('english')\n",
        "  x = \" \".join(i for i in x if not(i in stopwords_all))\n",
        "  return x"
      ]
    },
    {
      "cell_type": "code",
      "source": [
        "data[\"Traning set\"] = data[\"Traning set\"].apply(remove_stopwords)\n",
        "uf[\"Traning set\"] = uf[\"Traning set\"].apply(remove_stopwords)"
      ],
      "metadata": {
        "id": "GkHk_kSMNwdd"
      },
      "execution_count": 10,
      "outputs": []
    },
    {
      "cell_type": "code",
      "execution_count": 11,
      "metadata": {
        "id": "a8CvAVCEdLcg"
      },
      "outputs": [],
      "source": [
        "def number_removal(row):\n",
        "    data1 = row['Traning set']\n",
        "    if type(data1) not in [int,float]:\n",
        "        line = re.sub(r\"[^A-Za-z\\s]\", \" \", data1.strip())\n",
        "        tokens = line.split()\n",
        "    else:\n",
        "        tokens=[]\n",
        "    return ' '.join(tokens)\n",
        "frequency_words_wo_stop = {}\n",
        "def generate_word_frequency(row):\n",
        "    data1 = row['Traning set']\n",
        "    tokens = nltk.wordpunct_tokenize(data1)\n",
        "    token_list = []\n",
        "    for token in tokens:\n",
        "        token_list.append(token.lower())\n",
        "        if token.lower() in frequency_words_wo_stop:\n",
        "            count = frequency_words_wo_stop[token.lower()]\n",
        "            count = count + 1\n",
        "            frequency_words_wo_stop[token.lower()] = count\n",
        "        else:\n",
        "            frequency_words_wo_stop[token.lower()] = 1\n",
        "    return ','.join(token_list)\n"
      ]
    },
    {
      "cell_type": "code",
      "execution_count": 19,
      "metadata": {
        "colab": {
          "base_uri": "https://localhost:8080/"
        },
        "id": "k-xvbd6Fh7JM",
        "outputId": "91b8084f-1abe-456b-c14c-72c1dfb049cc"
      },
      "outputs": [
        {
          "output_type": "stream",
          "name": "stderr",
          "text": [
            "/usr/local/lib/python3.7/dist-packages/ipykernel_launcher.py:5: SettingWithCopyWarning: \n",
            "A value is trying to be set on a copy of a slice from a DataFrame.\n",
            "Try using .loc[row_indexer,col_indexer] = value instead\n",
            "\n",
            "See the caveats in the documentation: https://pandas.pydata.org/pandas-docs/stable/user_guide/indexing.html#returning-a-view-versus-a-copy\n",
            "  \"\"\"\n"
          ]
        }
      ],
      "source": [
        "wordnet_lemmatizer = WordNetLemmatizer()\n",
        "\n",
        "def receieve(query):\n",
        "    data1=query\n",
        "    data1['Traning set'] = data1.apply(number_removal,axis=1)\n",
        "    data1['tokens'] = data1.apply(generate_word_frequency,axis=1)\n",
        "    # print (data1.head())\n",
        "    big=[]\n",
        "    for i in data1['tokens']:\n",
        "        st=''\n",
        "        ls=[]\n",
        "        for j in i.split(','):\n",
        "            # print (wordnet_lemmatizer.lemmatize(j))\n",
        "            ls.append(wordnet_lemmatizer.lemmatize(j))\n",
        "        big.append(' '.join(ls))\n",
        "    data1['Traning set_lem']=big\n",
        "    return data1['Traning set_lem']\n",
        "data['Traning set']=receieve(data[['Traning set']])\n",
        "uf[\"Traning set\"] = receieve(uf[[\"Traning set\"]])"
      ]
    },
    {
      "cell_type": "markdown",
      "source": [
        "Model Training"
      ],
      "metadata": {
        "id": "Sak6y6IgN8aA"
      }
    },
    {
      "cell_type": "code",
      "execution_count": 20,
      "metadata": {
        "id": "UKp-w3g_WI0I"
      },
      "outputs": [],
      "source": [
        "class_names=['Preamble','Governing Law','Lender Defaulting','Indemnification' , 'Other']"
      ]
    },
    {
      "cell_type": "code",
      "execution_count": 21,
      "metadata": {
        "id": "LjYJhtA_o-x8"
      },
      "outputs": [],
      "source": [
        "data = data.sample(frac=1, random_state=15).reset_index(drop=True)"
      ]
    },
    {
      "cell_type": "code",
      "execution_count": 22,
      "metadata": {
        "id": "O35DaT_nqrd5"
      },
      "outputs": [],
      "source": [
        "arr=data['Traning set'].tolist()\n",
        "arr_lbl = data['class'].tolist()"
      ]
    },
    {
      "cell_type": "code",
      "execution_count": 23,
      "metadata": {
        "id": "DGxr8eDxwTKl"
      },
      "outputs": [],
      "source": [
        "train_arr = arr\n",
        "test_arr = uf[\"Traning set\"]\n",
        "train_lbl  = arr_lbl"
      ]
    },
    {
      "cell_type": "code",
      "execution_count": 24,
      "metadata": {
        "id": "hhRdj7SUrGej"
      },
      "outputs": [],
      "source": [
        "from sklearn.feature_extraction.text import CountVectorizer, TfidfTransformer"
      ]
    },
    {
      "cell_type": "code",
      "execution_count": 25,
      "metadata": {
        "colab": {
          "base_uri": "https://localhost:8080/"
        },
        "id": "XPUtm597rLxC",
        "outputId": "b8352245-beb8-4727-82b9-f10621b7e5f6"
      },
      "outputs": [
        {
          "output_type": "stream",
          "name": "stdout",
          "text": [
            "(27, 269)\n",
            "(10, 269)\n"
          ]
        }
      ],
      "source": [
        "vectorizer = CountVectorizer()\n",
        "vectorizer.fit(train_arr)\n",
        "train_mat = vectorizer.transform(train_arr)\n",
        "print (train_mat.shape)\n",
        "test_mat = vectorizer.transform(test_arr)\n",
        "print (test_mat.shape)"
      ]
    },
    {
      "cell_type": "code",
      "execution_count": 26,
      "metadata": {
        "colab": {
          "base_uri": "https://localhost:8080/"
        },
        "id": "fx4GWy66rdEe",
        "outputId": "013c3502-b168-478b-ee19-d39d552997a4"
      },
      "outputs": [
        {
          "output_type": "stream",
          "name": "stdout",
          "text": [
            "(27, 269)\n",
            "(10, 269)\n"
          ]
        }
      ],
      "source": [
        "tfidf = TfidfTransformer()\n",
        "tfidf.fit(train_mat)\n",
        "train_tfmat = tfidf.transform(train_mat)\n",
        "print (train_tfmat.shape)\n",
        "test_tfmat = tfidf.transform(test_mat)\n",
        "print (test_tfmat.shape)"
      ]
    },
    {
      "cell_type": "code",
      "execution_count": 27,
      "metadata": {
        "id": "HBOm_GppryDb"
      },
      "outputs": [],
      "source": [
        "del train_arr"
      ]
    },
    {
      "cell_type": "code",
      "execution_count": 28,
      "metadata": {
        "id": "ntY6Ks0cr45m"
      },
      "outputs": [],
      "source": [
        "from sklearn.naive_bayes import BernoulliNB, GaussianNB, MultinomialNB\n",
        "from pprint import pprint\n",
        "import matplotlib.pyplot as plt\n",
        "import itertools\n",
        "from sklearn.metrics import confusion_matrix,accuracy_score"
      ]
    },
    {
      "cell_type": "code",
      "execution_count": 29,
      "metadata": {
        "id": "CoEdcPcFsMc9"
      },
      "outputs": [],
      "source": [
        "def plot_confusion_matrix(cm, classes, normalize=False, title='Confusion matrix',cmap=plt.cm.Reds):\n",
        "    plt.imshow(cm, interpolation='nearest', cmap=cmap)\n",
        "    plt.title(title)\n",
        "    plt.colorbar()\n",
        "    tick_marks = np.arange(len(classes))\n",
        "    plt.xticks(tick_marks, classes, rotation=90)\n",
        "    plt.yticks(tick_marks, classes)\n",
        "\n",
        "    print(cm)\n",
        "    thresh = cm.max() / 2.\n",
        "    for i, j in itertools.product(range(cm.shape[0]), range(cm.shape[1])):\n",
        "        plt.text(j, i, cm[i, j], horizontalalignment=\"center\", color=\"white\" if cm[i, j] > thresh else \"black\")\n",
        "    plt.tight_layout()\n",
        "    plt.ylabel('True label')\n",
        "    plt.xlabel('Predicted label')\n",
        "    "
      ]
    },
    {
      "cell_type": "markdown",
      "source": [
        "#Naive Bayes "
      ],
      "metadata": {
        "id": "HU3UqilGwOVT"
      }
    },
    {
      "cell_type": "markdown",
      "source": [
        "Bernoulli Naive Bayes\n"
      ],
      "metadata": {
        "id": "z9Ouia1Xu4UC"
      }
    },
    {
      "cell_type": "code",
      "execution_count": 46,
      "metadata": {
        "colab": {
          "base_uri": "https://localhost:8080/"
        },
        "id": "_RQlNYpZoURJ",
        "outputId": "b9b22415-9cd3-47c7-e9af-cc8b117d1706"
      },
      "outputs": [
        {
          "output_type": "stream",
          "name": "stdout",
          "text": [
            "['Preamble' 'Governing Law' 'Governing Law' 'Indemnification'\n",
            " 'Lender Defaulting' 'Governing Law' 'Indemnification' 'Other' 'Other'\n",
            " 'Lender Defaulting']\n"
          ]
        }
      ],
      "source": [
        "bnb= BernoulliNB()\n",
        "#fitting\n",
        "bnb.fit(train_tfmat, train_lbl)\n",
        "#ypred\n",
        "ypredBnb = bnb.predict(test_tfmat)\n",
        "print(ypredBnb)\n",
        "uf[\"BernoulliNB\"] = ypredBnb\n"
      ]
    },
    {
      "cell_type": "markdown",
      "source": [
        "Multinomial Naive Bayes\n"
      ],
      "metadata": {
        "id": "gKWIOcniu_7Y"
      }
    },
    {
      "cell_type": "code",
      "execution_count": 49,
      "metadata": {
        "colab": {
          "base_uri": "https://localhost:8080/"
        },
        "id": "vt08EoWezCHh",
        "outputId": "aec7d0d7-d45b-42b1-9656-e5e2b1b44ba6"
      },
      "outputs": [
        {
          "output_type": "stream",
          "name": "stdout",
          "text": [
            "['Preamble' 'Governing Law' 'Governing Law' 'Indemnification'\n",
            " 'Lender Defaulting' 'Governing Law' 'Indemnification' 'Lender Defaulting'\n",
            " 'Other' 'Lender Defaulting']\n"
          ]
        }
      ],
      "source": [
        "mnb=MultinomialNB()\n",
        "#fitting\n",
        "mnb.fit(train_tfmat, train_lbl)\n",
        "ypredMnb = mnb.predict(test_tfmat)\n",
        "print(ypredMnb)\n",
        "uf['MultinomialNB']=ypredMnb\n"
      ]
    },
    {
      "cell_type": "markdown",
      "source": [
        "#SVM"
      ],
      "metadata": {
        "id": "jbI2XkJyvKvH"
      }
    },
    {
      "cell_type": "code",
      "execution_count": 35,
      "metadata": {
        "id": "a9iUzm-N0V70"
      },
      "outputs": [],
      "source": [
        "from sklearn.svm import LinearSVC, NuSVC, SVC"
      ]
    },
    {
      "cell_type": "markdown",
      "source": [
        "Linear SVC"
      ],
      "metadata": {
        "id": "jjQvzItAvS1X"
      }
    },
    {
      "cell_type": "code",
      "execution_count": 50,
      "metadata": {
        "id": "OWHX_lkk09lL",
        "colab": {
          "base_uri": "https://localhost:8080/"
        },
        "outputId": "8a2418f3-3bb3-42c7-b02a-18ccc64078c7"
      },
      "outputs": [
        {
          "output_type": "stream",
          "name": "stdout",
          "text": [
            "['Preamble' 'Governing Law' 'Governing Law' 'Indemnification'\n",
            " 'Lender Defaulting' 'Governing Law' 'Indemnification' 'Lender Defaulting'\n",
            " 'Other' 'Lender Defaulting']\n"
          ]
        }
      ],
      "source": [
        "lsvm= LinearSVC()\n",
        "#fitting\n",
        "lsvm.fit(train_tfmat, train_lbl)\n",
        "#ypred\n",
        "ypredLsvm = lsvm.predict(test_tfmat)\n",
        "print(ypredLsvm)\n",
        "uf['LinearSVC']=ypredLsvm"
      ]
    },
    {
      "cell_type": "markdown",
      "source": [
        "Non linear svm"
      ],
      "metadata": {
        "id": "sQV0vKaMvcPl"
      }
    },
    {
      "cell_type": "code",
      "execution_count": 51,
      "metadata": {
        "colab": {
          "base_uri": "https://localhost:8080/"
        },
        "id": "kuefva-J1UF8",
        "outputId": "84200f5f-4f55-4dcf-f6f5-fdbaa2fa6add"
      },
      "outputs": [
        {
          "output_type": "stream",
          "name": "stdout",
          "text": [
            "['Preamble' 'Governing Law' 'Governing Law' 'Indemnification'\n",
            " 'Lender Defaulting' 'Governing Law' 'Indemnification' 'Lender Defaulting'\n",
            " 'Other' 'Lender Defaulting']\n"
          ]
        }
      ],
      "source": [
        "nusvm=NuSVC()\n",
        "#fitting\n",
        "nusvm.fit(train_tfmat, train_lbl)\n",
        "#ypred\n",
        "ypredNusvm = nusvm.predict(test_tfmat)\n",
        "print(ypredNusvm)\n",
        "uf['NuSVC']=ypredNusvm"
      ]
    },
    {
      "cell_type": "markdown",
      "source": [
        "#KNN"
      ],
      "metadata": {
        "id": "okexMA8Mvgab"
      }
    },
    {
      "cell_type": "code",
      "execution_count": 41,
      "metadata": {
        "id": "ASIllFVq1zmt"
      },
      "outputs": [],
      "source": [
        "from sklearn.neighbors import KNeighborsClassifier"
      ]
    },
    {
      "cell_type": "markdown",
      "source": [
        "Uniform KNN"
      ],
      "metadata": {
        "id": "4_GJlm3wvn3e"
      }
    },
    {
      "cell_type": "code",
      "execution_count": 52,
      "metadata": {
        "colab": {
          "base_uri": "https://localhost:8080/"
        },
        "id": "VacGQ1ly16o6",
        "outputId": "c73bff14-e822-4d99-f2b2-7a4014ede469"
      },
      "outputs": [
        {
          "output_type": "stream",
          "name": "stdout",
          "text": [
            "['Preamble' 'Governing Law' 'Governing Law' 'Indemnification'\n",
            " 'Indemnification' 'Governing Law' 'Indemnification' 'Lender Defaulting'\n",
            " 'Other' 'Lender Defaulting']\n"
          ]
        }
      ],
      "source": [
        "knn_uni = KNeighborsClassifier(n_neighbors=5, weights = 'uniform')\n",
        "#fitting\n",
        "knn_uni.fit(train_tfmat, train_lbl)\n",
        "#ypred\n",
        "ypred_knn_uni = knn_uni.predict(test_tfmat)\n",
        "print(ypred_knn_uni)\n",
        "uf['KNeighborsClassifier']=ypred_knn_uni"
      ]
    },
    {
      "cell_type": "markdown",
      "source": [
        "Distinct KNN"
      ],
      "metadata": {
        "id": "r9YzLYYEvs2R"
      }
    },
    {
      "cell_type": "code",
      "execution_count": 53,
      "metadata": {
        "colab": {
          "base_uri": "https://localhost:8080/"
        },
        "id": "5soACE2o2GEA",
        "outputId": "b67050db-95fb-4540-d40f-0f8991ca8667"
      },
      "outputs": [
        {
          "output_type": "stream",
          "name": "stdout",
          "text": [
            "['Preamble' 'Governing Law' 'Governing Law' 'Indemnification'\n",
            " 'Lender Defaulting' 'Governing Law' 'Lender Defaulting'\n",
            " 'Lender Defaulting' 'Other' 'Lender Defaulting']\n"
          ]
        }
      ],
      "source": [
        "knn_dist = KNeighborsClassifier(n_neighbors=5, weights = 'distance')\n",
        "#fitting\n",
        "knn_dist.fit(train_tfmat, train_lbl)\n",
        "#ypred\n",
        "ypred_knn_dist = knn_dist.predict(test_tfmat)\n",
        "print(ypred_knn_dist)\n",
        "\n",
        "uf['KNeighborsClassifier_dist']=ypred_knn_dist"
      ]
    },
    {
      "cell_type": "code",
      "source": [
        "uf"
      ],
      "metadata": {
        "colab": {
          "base_uri": "https://localhost:8080/",
          "height": 494
        },
        "id": "MGRqRiZSTl_s",
        "outputId": "60a62dc7-ef2e-45f8-8a23-7d11669a1826"
      },
      "execution_count": 55,
      "outputs": [
        {
          "output_type": "execute_result",
          "data": {
            "text/html": [
              "\n",
              "  <div id=\"df-10239251-64e6-4fee-a4d0-be82b091534e\">\n",
              "    <div class=\"colab-df-container\">\n",
              "      <div>\n",
              "<style scoped>\n",
              "    .dataframe tbody tr th:only-of-type {\n",
              "        vertical-align: middle;\n",
              "    }\n",
              "\n",
              "    .dataframe tbody tr th {\n",
              "        vertical-align: top;\n",
              "    }\n",
              "\n",
              "    .dataframe thead th {\n",
              "        text-align: right;\n",
              "    }\n",
              "</style>\n",
              "<table border=\"1\" class=\"dataframe\">\n",
              "  <thead>\n",
              "    <tr style=\"text-align: right;\">\n",
              "      <th></th>\n",
              "      <th>Traning set</th>\n",
              "      <th>BernoulliNB</th>\n",
              "      <th>MultinomialNB</th>\n",
              "      <th>LinearSVC</th>\n",
              "      <th>NuSVC</th>\n",
              "      <th>KNeighborsClassifier</th>\n",
              "      <th>KNeighborsClassifier_dist</th>\n",
              "    </tr>\n",
              "  </thead>\n",
              "  <tbody>\n",
              "    <tr>\n",
              "      <th>0</th>\n",
              "      <td>amendment no dated february amendment no amend...</td>\n",
              "      <td>Preamble</td>\n",
              "      <td>Preamble</td>\n",
              "      <td>Preamble</td>\n",
              "      <td>Preamble</td>\n",
              "      <td>Preamble</td>\n",
              "      <td>Preamble</td>\n",
              "    </tr>\n",
              "    <tr>\n",
              "      <th>1</th>\n",
              "      <td>subject legal reservation choice law specified...</td>\n",
              "      <td>Governing Law</td>\n",
              "      <td>Governing Law</td>\n",
              "      <td>Governing Law</td>\n",
              "      <td>Governing Law</td>\n",
              "      <td>Governing Law</td>\n",
              "      <td>Governing Law</td>\n",
              "    </tr>\n",
              "    <tr>\n",
              "      <th>2</th>\n",
              "      <td>this agreement non contractual obligation aris...</td>\n",
              "      <td>Governing Law</td>\n",
              "      <td>Governing Law</td>\n",
              "      <td>Governing Law</td>\n",
              "      <td>Governing Law</td>\n",
              "      <td>Governing Law</td>\n",
              "      <td>Governing Law</td>\n",
              "    </tr>\n",
              "    <tr>\n",
              "      <th>3</th>\n",
              "      <td>each lender agrees indemnify administrative ag...</td>\n",
              "      <td>Indemnification</td>\n",
              "      <td>Indemnification</td>\n",
              "      <td>Indemnification</td>\n",
              "      <td>Indemnification</td>\n",
              "      <td>Indemnification</td>\n",
              "      <td>Indemnification</td>\n",
              "    </tr>\n",
              "    <tr>\n",
              "      <th>4</th>\n",
              "      <td>any lender failed fund portion loan within two...</td>\n",
              "      <td>Lender Defaulting</td>\n",
              "      <td>Lender Defaulting</td>\n",
              "      <td>Lender Defaulting</td>\n",
              "      <td>Lender Defaulting</td>\n",
              "      <td>Indemnification</td>\n",
              "      <td>Lender Defaulting</td>\n",
              "    </tr>\n",
              "    <tr>\n",
              "      <th>5</th>\n",
              "      <td>this assignment assumption shall governed cons...</td>\n",
              "      <td>Governing Law</td>\n",
              "      <td>Governing Law</td>\n",
              "      <td>Governing Law</td>\n",
              "      <td>Governing Law</td>\n",
              "      <td>Governing Law</td>\n",
              "      <td>Governing Law</td>\n",
              "    </tr>\n",
              "    <tr>\n",
              "      <th>6</th>\n",
              "      <td>a soon practicable payment indemnified tax oth...</td>\n",
              "      <td>Indemnification</td>\n",
              "      <td>Indemnification</td>\n",
              "      <td>Indemnification</td>\n",
              "      <td>Indemnification</td>\n",
              "      <td>Indemnification</td>\n",
              "      <td>Lender Defaulting</td>\n",
              "    </tr>\n",
              "    <tr>\n",
              "      <th>7</th>\n",
              "      <td>non defaulting lender mean time lender default...</td>\n",
              "      <td>Other</td>\n",
              "      <td>Lender Defaulting</td>\n",
              "      <td>Lender Defaulting</td>\n",
              "      <td>Lender Defaulting</td>\n",
              "      <td>Lender Defaulting</td>\n",
              "      <td>Lender Defaulting</td>\n",
              "    </tr>\n",
              "    <tr>\n",
              "      <th>8</th>\n",
              "      <td>fundco facility agreement mean facility agreem...</td>\n",
              "      <td>Other</td>\n",
              "      <td>Other</td>\n",
              "      <td>Other</td>\n",
              "      <td>Other</td>\n",
              "      <td>Other</td>\n",
              "      <td>Other</td>\n",
              "    </tr>\n",
              "    <tr>\n",
              "      <th>9</th>\n",
              "      <td>notwithstanding provision agreement contrary l...</td>\n",
              "      <td>Lender Defaulting</td>\n",
              "      <td>Lender Defaulting</td>\n",
              "      <td>Lender Defaulting</td>\n",
              "      <td>Lender Defaulting</td>\n",
              "      <td>Lender Defaulting</td>\n",
              "      <td>Lender Defaulting</td>\n",
              "    </tr>\n",
              "  </tbody>\n",
              "</table>\n",
              "</div>\n",
              "      <button class=\"colab-df-convert\" onclick=\"convertToInteractive('df-10239251-64e6-4fee-a4d0-be82b091534e')\"\n",
              "              title=\"Convert this dataframe to an interactive table.\"\n",
              "              style=\"display:none;\">\n",
              "        \n",
              "  <svg xmlns=\"http://www.w3.org/2000/svg\" height=\"24px\"viewBox=\"0 0 24 24\"\n",
              "       width=\"24px\">\n",
              "    <path d=\"M0 0h24v24H0V0z\" fill=\"none\"/>\n",
              "    <path d=\"M18.56 5.44l.94 2.06.94-2.06 2.06-.94-2.06-.94-.94-2.06-.94 2.06-2.06.94zm-11 1L8.5 8.5l.94-2.06 2.06-.94-2.06-.94L8.5 2.5l-.94 2.06-2.06.94zm10 10l.94 2.06.94-2.06 2.06-.94-2.06-.94-.94-2.06-.94 2.06-2.06.94z\"/><path d=\"M17.41 7.96l-1.37-1.37c-.4-.4-.92-.59-1.43-.59-.52 0-1.04.2-1.43.59L10.3 9.45l-7.72 7.72c-.78.78-.78 2.05 0 2.83L4 21.41c.39.39.9.59 1.41.59.51 0 1.02-.2 1.41-.59l7.78-7.78 2.81-2.81c.8-.78.8-2.07 0-2.86zM5.41 20L4 18.59l7.72-7.72 1.47 1.35L5.41 20z\"/>\n",
              "  </svg>\n",
              "      </button>\n",
              "      \n",
              "  <style>\n",
              "    .colab-df-container {\n",
              "      display:flex;\n",
              "      flex-wrap:wrap;\n",
              "      gap: 12px;\n",
              "    }\n",
              "\n",
              "    .colab-df-convert {\n",
              "      background-color: #E8F0FE;\n",
              "      border: none;\n",
              "      border-radius: 50%;\n",
              "      cursor: pointer;\n",
              "      display: none;\n",
              "      fill: #1967D2;\n",
              "      height: 32px;\n",
              "      padding: 0 0 0 0;\n",
              "      width: 32px;\n",
              "    }\n",
              "\n",
              "    .colab-df-convert:hover {\n",
              "      background-color: #E2EBFA;\n",
              "      box-shadow: 0px 1px 2px rgba(60, 64, 67, 0.3), 0px 1px 3px 1px rgba(60, 64, 67, 0.15);\n",
              "      fill: #174EA6;\n",
              "    }\n",
              "\n",
              "    [theme=dark] .colab-df-convert {\n",
              "      background-color: #3B4455;\n",
              "      fill: #D2E3FC;\n",
              "    }\n",
              "\n",
              "    [theme=dark] .colab-df-convert:hover {\n",
              "      background-color: #434B5C;\n",
              "      box-shadow: 0px 1px 3px 1px rgba(0, 0, 0, 0.15);\n",
              "      filter: drop-shadow(0px 1px 2px rgba(0, 0, 0, 0.3));\n",
              "      fill: #FFFFFF;\n",
              "    }\n",
              "  </style>\n",
              "\n",
              "      <script>\n",
              "        const buttonEl =\n",
              "          document.querySelector('#df-10239251-64e6-4fee-a4d0-be82b091534e button.colab-df-convert');\n",
              "        buttonEl.style.display =\n",
              "          google.colab.kernel.accessAllowed ? 'block' : 'none';\n",
              "\n",
              "        async function convertToInteractive(key) {\n",
              "          const element = document.querySelector('#df-10239251-64e6-4fee-a4d0-be82b091534e');\n",
              "          const dataTable =\n",
              "            await google.colab.kernel.invokeFunction('convertToInteractive',\n",
              "                                                     [key], {});\n",
              "          if (!dataTable) return;\n",
              "\n",
              "          const docLinkHtml = 'Like what you see? Visit the ' +\n",
              "            '<a target=\"_blank\" href=https://colab.research.google.com/notebooks/data_table.ipynb>data table notebook</a>'\n",
              "            + ' to learn more about interactive tables.';\n",
              "          element.innerHTML = '';\n",
              "          dataTable['output_type'] = 'display_data';\n",
              "          await google.colab.output.renderOutput(dataTable, element);\n",
              "          const docLink = document.createElement('div');\n",
              "          docLink.innerHTML = docLinkHtml;\n",
              "          element.appendChild(docLink);\n",
              "        }\n",
              "      </script>\n",
              "    </div>\n",
              "  </div>\n",
              "  "
            ],
            "text/plain": [
              "                                         Traning set  ... KNeighborsClassifier_dist\n",
              "0  amendment no dated february amendment no amend...  ...                  Preamble\n",
              "1  subject legal reservation choice law specified...  ...             Governing Law\n",
              "2  this agreement non contractual obligation aris...  ...             Governing Law\n",
              "3  each lender agrees indemnify administrative ag...  ...           Indemnification\n",
              "4  any lender failed fund portion loan within two...  ...         Lender Defaulting\n",
              "5  this assignment assumption shall governed cons...  ...             Governing Law\n",
              "6  a soon practicable payment indemnified tax oth...  ...         Lender Defaulting\n",
              "7  non defaulting lender mean time lender default...  ...         Lender Defaulting\n",
              "8  fundco facility agreement mean facility agreem...  ...                     Other\n",
              "9  notwithstanding provision agreement contrary l...  ...         Lender Defaulting\n",
              "\n",
              "[10 rows x 7 columns]"
            ]
          },
          "metadata": {},
          "execution_count": 55
        }
      ]
    }
  ],
  "metadata": {
    "colab": {
      "collapsed_sections": [],
      "name": "TEXT_CLASS_test.ipynb",
      "provenance": [],
      "authorship_tag": "ABX9TyPa5eEHpB8Fjwe7JBAslQFk",
      "include_colab_link": true
    },
    "kernelspec": {
      "display_name": "Python 3",
      "name": "python3"
    },
    "language_info": {
      "name": "python"
    }
  },
  "nbformat": 4,
  "nbformat_minor": 0
}